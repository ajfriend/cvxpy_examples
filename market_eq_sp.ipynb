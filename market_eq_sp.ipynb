{
 "metadata": {
  "name": "",
  "signature": "sha256:eb15bd9e1b4427e607a0943fe6e2a46c7448b64fa89f87c0ae9f57e7195a24dc"
 },
 "nbformat": 3,
 "nbformat_minor": 0,
 "worksheets": [
  {
   "cells": [
    {
     "cell_type": "code",
     "collapsed": false,
     "input": [
      "m = 5\n",
      "n = 6\n",
      "A = randn(m,n)**2\n",
      "B = rand(m,n)"
     ],
     "language": "python",
     "metadata": {},
     "outputs": [],
     "prompt_number": 154
    },
    {
     "cell_type": "code",
     "collapsed": false,
     "input": [
      "def update_p(A,B,p,num_constraint=2,num_extra_res=2):\n",
      "    ''' for each agent, return a tuple of the constraints and resources it should consider\n",
      "        in updating the prices p\n",
      "    '''\n",
      "    m,n = A.shape\n",
      "    cash = B.dot(p)\n",
      "    upd = A/np.tile(p,(m,1))#utility per dollar\n",
      "    rdm = np.sum(B*np.tile(p,(m,1)),axis=0) #resource dollar max, i.e., how much to buy all of one resource\n",
      "    \n",
      "    # largest upd gives constraints for each agent\n",
      "    \n",
      "    data = []\n",
      "    for i in range(m):\n",
      "        #print i\n",
      "        ind = np.argsort(upd[i,:])\n",
      "        ind = ind[::-1] # since this is the max, we really only need the top one or two constraints\n",
      "        #print ind\n",
      "        j = 0\n",
      "        while sum(rdm[ind[:j]]) <= cash[i]:\n",
      "            j += 1\n",
      "        #print ind[:j]\n",
      "        data.append((list(ind[:num_constraint]), list(ind[:j+num_extra_res])))\n",
      "    return data\n",
      "    "
     ],
     "language": "python",
     "metadata": {},
     "outputs": [],
     "prompt_number": 219
    },
    {
     "cell_type": "code",
     "collapsed": false,
     "input": [
      "p = np.ones(n)\n",
      "data = update_p(A,B,p)\n",
      "data"
     ],
     "language": "python",
     "metadata": {},
     "outputs": [
      {
       "metadata": {},
       "output_type": "pyout",
       "prompt_number": 222,
       "text": [
        "[([1, 4], [1, 4, 3]),\n",
        " ([4, 2], [4, 2, 5, 1]),\n",
        " ([3, 5], [3, 5, 1]),\n",
        " ([1, 3], [1, 3, 5]),\n",
        " ([0, 5], [0, 5, 1, 3])]"
       ]
      }
     ],
     "prompt_number": 222
    },
    {
     "cell_type": "code",
     "collapsed": false,
     "input": [
      "data = update_p(A,B,p)\n",
      "data"
     ],
     "language": "python",
     "metadata": {},
     "outputs": [
      {
       "metadata": {},
       "output_type": "pyout",
       "prompt_number": 205,
       "text": [
        "[([1, 4], [1, 4, 3]),\n",
        " ([2, 4], [2, 4, 5, 1]),\n",
        " ([3, 5], [3, 5, 2, 1]),\n",
        " ([1, 3], [1, 3, 2]),\n",
        " ([5, 0], [5, 0, 3, 1])]"
       ]
      }
     ],
     "prompt_number": 205
    },
    {
     "cell_type": "code",
     "collapsed": false,
     "input": [
      "p.shape"
     ],
     "language": "python",
     "metadata": {},
     "outputs": [
      {
       "metadata": {},
       "output_type": "pyout",
       "prompt_number": 202,
       "text": [
        "(6, 1)"
       ]
      }
     ],
     "prompt_number": 202
    },
    {
     "cell_type": "code",
     "collapsed": false,
     "input": [
      "import cvxpy as cvx\n",
      "X = {}\n",
      "T = {}\n",
      "phi = cvx.Variable(n)\n",
      "goods = [[] for i in range(n)]\n",
      "for i,(const, res) in enumerate(data):\n",
      "    for j in res:\n",
      "        X[i,j] = cvx.Variable()\n",
      "        goods[j].append(X[i,j])\n",
      "    for j in const:\n",
      "        T[i,j] = cvx.Variable()\n",
      "        \n",
      "objective = sum(t for t in T.values())\n",
      "#objective = 0\n",
      "objective = cvx.Minimize(objective)\n",
      "\n",
      "constraints = [x >=0 for x in X.values()]\n",
      "constraints += [t >=0 for t in T.values()]\n",
      "constraints += [ sum(l) == sum(B[:,i]) for i,l in enumerate(goods) ]\n",
      "constraints += [sum(A[i,k]*X[(i,k)] for k in ks)  + T[i,j] >= A[i,j]*sum(B[i,k]*cvx.exp(phi[k]-phi[j]) for k in range(n)) for i,(js,ks) in enumerate(data) for j in js]\n",
      "\n",
      "\n",
      "prob = cvx.Problem(objective,constraints)\n",
      "opts = {\"USE_INDIRECT\": False, \"EPS\": 1e-5}\n",
      "result = prob.solve(solver=cvx.SCS, verbose=True,solver_specific_opts=opts)"
     ],
     "language": "python",
     "metadata": {},
     "outputs": [
      {
       "output_type": "stream",
       "stream": "stdout",
       "text": [
        "----------------------------------------------------------------------------\n",
        "\tscs v1.0 - Splitting Conic Solver\n",
        "\t(c) Brendan O'Donoghue, Stanford University, 2012\n",
        "----------------------------------------------------------------------------\n",
        "Method: sparse-direct, nnz in A = 318\n",
        "EPS = 1.00e-05, ALPHA = 1.80, MAX_ITERS = 2500, NORMALIZE = 1, SCALE = 5.00\n",
        "Variables n = 93, constraints m = 223\n",
        "Cones:\tprimal zero / dual free vars: 6\n",
        "\tlinear vars: 37\n",
        "\tsoc vars: 0, soc blks: 0\n",
        "\tsd vars: 0, sd blks: 0\n",
        "\texp vars: 180, dual exp vars: 0\n",
        "----------------------------------------------------------------------------\n",
        " Iter | pri res | dua res | rel gap | pri obj | dua obj |  kappa  | time (s)\n",
        "============================================================================\n",
        "     0| 7.38e+00  1.75e+00       nan      -inf       inf  4.94e+02  2.39e-03 \n",
        "   100|"
       ]
      },
      {
       "output_type": "stream",
       "stream": "stdout",
       "text": [
        " 6.83e-03  1.96e-02  8.40e-02  2.89e-02 -6.28e-02  3.72e-15  6.47e-02 \n",
        "   200|"
       ]
      },
      {
       "output_type": "stream",
       "stream": "stdout",
       "text": [
        " 1.20e-03  1.46e-03  9.46e-04  3.51e-04 -5.96e-04  3.72e-15  1.29e-01 \n",
        "   300|"
       ]
      },
      {
       "output_type": "stream",
       "stream": "stdout",
       "text": [
        " 1.63e-04  6.06e-04  1.67e-03  2.44e-05  1.70e-03  3.72e-15  1.96e-01 \n",
        "   400|"
       ]
      },
      {
       "output_type": "stream",
       "stream": "stdout",
       "text": [
        " 2.66e-05  1.48e-04  3.80e-04 -7.51e-06  3.73e-04  3.72e-15  2.66e-01 \n",
        "   500|"
       ]
      },
      {
       "output_type": "stream",
       "stream": "stdout",
       "text": [
        " 5.89e-06  8.88e-06  6.68e-05 -4.98e-07 -6.73e-05  3.72e-15  3.33e-01 \n",
        "   600|"
       ]
      },
      {
       "output_type": "stream",
       "stream": "stdout",
       "text": [
        " 1.17e-06  5.04e-06  3.98e-05 -7.44e-07 -4.06e-05  3.72e-15  4.00e-01 \n",
        "   620| 7.15e-07  8.25e-06  4.45e-07 -2.82e-08 -4.74e-07  3.72e-15  4.12e-01 \n",
        "----------------------------------------------------------------------------\n",
        "Status: Solved\n",
        "Timing: Solve time: 4.12e-01s, setup time: 1.02e-04s\n",
        "\tLin-sys: nnz in L factor: 689, avg solve time: 4.49e-06s\n",
        "\tCones: avg projection time: 6.47e-04s\n",
        "----------------------------------------------------------------------------\n",
        "Error metrics:\n",
        "|Ax + s - b|_2 / (1 + |b|_2) = 7.1536e-07\n",
        "|A'y + c|_2 / (1 + |c|_2) = 8.2508e-06\n",
        "|c'x + b'y| / (1 + |c'x| + |b'y|) = 4.4531e-07\n",
        "dist(s, K) = 0, dist(y, K*) = 0, s'y = 0\n",
        "----------------------------------------------------------------------------\n",
        "c'x = -0.0000, -b'y = -0.0000\n",
        "============================================================================\n"
       ]
      }
     ],
     "prompt_number": 223
    },
    {
     "cell_type": "code",
     "collapsed": false,
     "input": [
      "\n",
      "#{ind: X[ind].value for ind in X}\n",
      "[t.value for t in T.values()]"
     ],
     "language": "python",
     "metadata": {},
     "outputs": [
      {
       "metadata": {},
       "output_type": "pyout",
       "prompt_number": 218,
       "text": [
        "[-6.2290723766172124e-08,\n",
        " 6.5239785228862132e-07,\n",
        " -8.4920292370859897e-12,\n",
        " -1.0502437251057162e-07,\n",
        " -8.7565105817801947e-08,\n",
        " -9.6343334106725647e-08,\n",
        " 1.2065534877915948e-08,\n",
        " 5.8256132222711655e-08,\n",
        " -7.2296427547877366e-10,\n",
        " 2.0074163178556838e-09,\n",
        " 1.1015302170636107e-09,\n",
        " 1.712804677581148e-07,\n",
        " -1.7058773986302228e-08,\n",
        " -1.0549517182944217e-07,\n",
        " -1.0173897381973155e-10]"
       ]
      }
     ],
     "prompt_number": 218
    },
    {
     "cell_type": "code",
     "collapsed": false,
     "input": [
      "phi.value"
     ],
     "language": "python",
     "metadata": {},
     "outputs": [
      {
       "metadata": {},
       "output_type": "pyout",
       "prompt_number": 224,
       "text": [
        "matrix([[ 0.19609502],\n",
        "        [ 0.68453813],\n",
        "        [-1.04225095],\n",
        "        [-0.05175275],\n",
        "        [ 0.19779254],\n",
        "        [-0.17245664]])"
       ]
      }
     ],
     "prompt_number": 224
    },
    {
     "cell_type": "code",
     "collapsed": false,
     "input": [
      "p = np.exp(np.array(phi.value)).flatten()\n",
      "p/sum(p)"
     ],
     "language": "python",
     "metadata": {},
     "outputs": [
      {
       "metadata": {},
       "output_type": "pyout",
       "prompt_number": 227,
       "text": [
        "array([ 0.18540653,  0.30217127,  0.05374254,  0.14470586,  0.18572153,\n",
        "        0.12825227])"
       ]
      }
     ],
     "prompt_number": 227
    },
    {
     "cell_type": "markdown",
     "metadata": {},
     "source": [
      "# full solver"
     ]
    },
    {
     "cell_type": "code",
     "collapsed": false,
     "input": [
      "import cvxpy as cvx\n",
      "x = cvx.Variable(m,n)\n",
      "phi = cvx.Variable(n)\n",
      "\n",
      "lhs = cvx.mul_elemwise(A,x)\n",
      "lhs = sum(lhs[:,i] for i in range(n))\n",
      "\n",
      "objective = 0\n",
      "constraints = [x >= 0, sum(x[i,:] for i in range(x.size[0])).T == B.sum(axis=0)] + [lhs[i] >= A[i,j]*sum(B[i,k]*cvx.exp(phi[k]-phi[j]) for k in range(n)) for i in range(m) for j in range(n)]\n",
      "\n",
      "objective = cvx.Minimize(objective)\n",
      "prob = cvx.Problem(objective,constraints)\n",
      "opts = {\"USE_INDIRECT\": False, \"EPS\": 1e-5}\n",
      "result = prob.solve(solver=cvx.SCS, verbose=True,solver_specific_opts=opts)"
     ],
     "language": "python",
     "metadata": {},
     "outputs": [
      {
       "output_type": "stream",
       "stream": "stdout",
       "text": [
        "----------------------------------------------------------------------------\n",
        "\tscs v1.0 - Splitting Conic Solver\n",
        "\t(c) Brendan O'Donoghue, Stanford University, 2012\n",
        "----------------------------------------------------------------------------\n",
        "Method: sparse-direct, nnz in A = 930\n",
        "EPS = 1.00e-05, ALPHA = 1.80, MAX_ITERS = 2500, NORMALIZE = 1, SCALE = 5.00\n",
        "Variables n = 216, constraints m = 606\n",
        "Cones:\tprimal zero / dual free vars: 6\n",
        "\tlinear vars: 60\n",
        "\tsoc vars: 0, soc blks: 0\n",
        "\tsd vars: 0, sd blks: 0\n",
        "\texp vars: 540, dual exp vars: 0\n",
        "----------------------------------------------------------------------------\n",
        " Iter | pri res | dua res | rel gap | pri obj | dua obj |  kappa  | time (s)\n",
        "============================================================================\n",
        "     0|      nan  1.64e+00       nan       nan       inf  5.15e+00  4.57e-03 \n",
        "   100|"
       ]
      },
      {
       "output_type": "stream",
       "stream": "stdout",
       "text": [
        " 2.65e-02  1.62e-03  5.96e-04  0.00e+00 -5.96e-04  4.80e-17  8.99e-02 \n",
        "   200|"
       ]
      },
      {
       "output_type": "stream",
       "stream": "stdout",
       "text": [
        " 2.31e-03  1.18e-04  1.84e-04  0.00e+00  1.84e-04  4.80e-17  1.61e-01 \n",
        "   300|"
       ]
      },
      {
       "output_type": "stream",
       "stream": "stdout",
       "text": [
        " 4.74e-04  2.82e-05  6.98e-06  0.00e+00  6.98e-06  0.00e+00  2.37e-01 \n",
        "   400|"
       ]
      },
      {
       "output_type": "stream",
       "stream": "stdout",
       "text": [
        " 1.35e-04  5.48e-06  5.84e-07  0.00e+00  5.84e-07  0.00e+00  3.11e-01 \n",
        "   500|"
       ]
      },
      {
       "output_type": "stream",
       "stream": "stdout",
       "text": [
        " 3.43e-05  3.67e-06  5.17e-07  0.00e+00 -5.17e-07  4.80e-17  3.87e-01 \n",
        "   600|"
       ]
      },
      {
       "output_type": "stream",
       "stream": "stdout",
       "text": [
        " 1.59e-05  6.95e-07  2.36e-07  0.00e+00 -2.36e-07  4.80e-17  4.69e-01 \n",
        "   640| 8.98e-06  7.98e-07  1.34e-07  0.00e+00 -1.34e-07  9.59e-17  5.04e-01 \n",
        "----------------------------------------------------------------------------\n",
        "Status: Solved\n",
        "Timing: Solve time: 5.04e-01s, setup time: 3.42e-04s\n",
        "\tLin-sys: nnz in L factor: 2072, avg solve time: 1.34e-05s\n",
        "\tCones: avg projection time: 7.50e-04s\n",
        "----------------------------------------------------------------------------\n",
        "Error metrics:\n",
        "|Ax + s - b|_2 / (1 + |b|_2) = 8.9822e-06\n",
        "|A'y + c|_2 / (1 + |c|_2) = 7.9827e-07\n",
        "|c'x + b'y| / (1 + |c'x| + |b'y|) = 1.3373e-07\n",
        "dist(s, K) = 0, dist(y, K*) = 0, s'y = 0\n",
        "----------------------------------------------------------------------------\n",
        "c'x = 0.0000, -b'y = -0.0000\n",
        "============================================================================\n"
       ]
      }
     ],
     "prompt_number": 228
    },
    {
     "cell_type": "code",
     "collapsed": false,
     "input": [
      "np.array(x.value)"
     ],
     "language": "python",
     "metadata": {},
     "outputs": [
      {
       "metadata": {},
       "output_type": "pyout",
       "prompt_number": 180,
       "text": [
        "array([[  6.31474087e-04,   1.98657514e+00,   6.28838911e-05,\n",
        "         -7.29201994e-04,   8.13156035e-05,  -7.82742227e-05],\n",
        "       [  6.22549418e-04,  -2.73156596e-04,   1.85859403e+00,\n",
        "         -7.68716708e-04,   1.75717301e+00,  -9.19844988e-05],\n",
        "       [  6.67515199e-04,  -1.81263533e-04,   7.87491501e-05,\n",
        "          3.03137099e+00,   3.77085879e-06,   7.59460331e-01],\n",
        "       [  6.22969244e-04,   1.52253196e+00,   6.03138468e-05,\n",
        "         -7.65402156e-04,  -2.03637536e-05,  -9.23566102e-05],\n",
        "       [  3.13784313e+00,  -3.82983668e-04,   5.94779273e-05,\n",
        "         -8.59910577e-04,  -8.25276927e-05,   1.78694143e-01]])"
       ]
      }
     ],
     "prompt_number": 180
    },
    {
     "cell_type": "code",
     "collapsed": false,
     "input": [
      "matshow(np.array(x.value))"
     ],
     "language": "python",
     "metadata": {},
     "outputs": [
      {
       "metadata": {},
       "output_type": "pyout",
       "prompt_number": 175,
       "text": [
        "<matplotlib.image.AxesImage at 0x110b75110>"
       ]
      },
      {
       "metadata": {},
       "output_type": "display_data",
       "png": "[encoded data removed]",
       "text": [
        "<matplotlib.figure.Figure at 0x113bccf10>"
       ]
      }
     ],
     "prompt_number": 175
    },
    {
     "cell_type": "code",
     "collapsed": false,
     "input": [
      "p = np.exp(np.array(phi.value)).flatten()\n",
      "p/sum(p)"
     ],
     "language": "python",
     "metadata": {},
     "outputs": [
      {
       "metadata": {},
       "output_type": "pyout",
       "prompt_number": 229,
       "text": [
        "array([ 0.18540718,  0.30217121,  0.05374268,  0.14470541,  0.18572129,\n",
        "        0.12825223])"
       ]
      }
     ],
     "prompt_number": 229
    },
    {
     "cell_type": "code",
     "collapsed": false,
     "input": [
      "{ind: X[ind].value for ind in X}"
     ],
     "language": "python",
     "metadata": {},
     "outputs": [
      {
       "metadata": {},
       "output_type": "pyout",
       "prompt_number": 178,
       "text": [
        "{(0, 1): 1.9885648700439795,\n",
        " (0, 3): 2.7710584996210684e-05,\n",
        " (0, 4): 5.5150857107477635e-05,\n",
        " (1, 1): -3.0600659068872602e-05,\n",
        " (1, 2): 1.8591474422596717,\n",
        " (1, 4): 1.7569179565395114,\n",
        " (1, 5): 9.2088327252303835e-06,\n",
        " (2, 1): -3.3257359563753985e-05,\n",
        " (2, 3): 3.0242516781044695,\n",
        " (2, 5): 0.77012130664551826,\n",
        " (3, 1): 1.5186006665718985,\n",
        " (3, 3): 2.5856181762711657e-05,\n",
        " (3, 5): 1.6101311258009114e-05,\n",
        " (4, 0): 3.1434954686300673,\n",
        " (4, 1): -3.4197071000768563e-05,\n",
        " (4, 3): 1.948508656311248e-05,\n",
        " (4, 5): 0.16722078413354211}"
       ]
      }
     ],
     "prompt_number": 178
    },
    {
     "cell_type": "code",
     "collapsed": false,
     "input": [],
     "language": "python",
     "metadata": {},
     "outputs": []
    }
   ],
   "metadata": {}
  }
 ]
}