{
 "metadata": {
  "name": "",
  "signature": "sha256:73c315ed3e5b5fa0979efe9383bb35c5c0dbba7797a4ebe652eaa3fdf043b56d"
 },
 "nbformat": 3,
 "nbformat_minor": 0,
 "worksheets": [
  {
   "cells": [
    {
     "cell_type": "markdown",
     "metadata": {},
     "source": [
      "# Sizing of clock meshes\n",
      "\n",
      "Original by Lieven Vanderberghe.<br>\n",
      "Adapted to CVX by Argyris Zymnis, 12/4/2005.<br>\n",
      "Modified by Michael Grant, 3/8/2006.<br>\n",
      "Adapted to CVXPY, with cosmetic modifications, by Judson Wilson, 5/26/2014.<br>\n",
      "\n",
      "Topic References:\n",
      "\n",
      "* Section 4, L. Vandenberghe, S. Boyd, and A. El Gamal<br>\n",
      "  \"Optimal Wire and Transistor Sizing for Circuits with Non-Tree Topology\"\n",
      "\n",
      "## Introduction\n",
      "\n",
      "We consider the problem of sizing a clock mesh, so as to minimize the\n",
      "total dissipated power under a constraint on the dominant time constant.\n",
      "The numbers of nodes in the mesh is $N$ per row or column (thus $n=(N+1)^2$\n",
      "in total). We divide the wire into m segments of width $x_i$, $i = 1,\\dots,m$\n",
      "which is constrained as $0 \\le x_i \\le W_{\\mbox{max}}$. We use a pi-model of each wire\n",
      "segment, with capacitance $\\beta_i x_i$ and conductance $\\alpha_i x_i$.\n",
      "Defining $C(x) = C_0+x_1 C_1 + x_2 C_ 2 + \\cdots + x_m C_m$ we have that the dissipated\n",
      "power is equal to $\\mathbf{1}^T C(x) \\mathbf{1}$. Thus to minimize the\n",
      "dissipated power subject to a constraint in the widths and a constraint\n",
      "in the dominant time constant, we solve the SDP\n",
      "    \\begin{array}{ll}\n",
      "    \\mbox{minimize}   & \\mathbf{1}^T C(x) \\mathbf{1}   \\\\\n",
      "    \\mbox{subject to} &  T_{\\mbox{max}} G(x) - C(x) \\succeq 0 \\\\\n",
      "                      & 0 \\le x_i \\le W_{\\mbox{max}}.\n",
      "    \\end{array}\n",
      "\n",
      "## Import and setup packages"
     ]
    },
    {
     "cell_type": "code",
     "collapsed": false,
     "input": [
      "import cvxpy as cvx\n",
      "import numpy as np\n",
      "import scipy as scipy\n",
      "import matplotlib.pyplot as plt\n",
      "\n",
      "# Show plots inline in ipython.\n",
      "%matplotlib inline\n",
      "\n",
      "# Plot properties.\n",
      "plt.rc('text', usetex=True)\n",
      "plt.rc('font', family='serif')\n",
      "font = {'family' : 'normal',\n",
      "        'weight' : 'normal',\n",
      "        'size'   : 16}\n",
      "plt.rc('font', **font)"
     ],
     "language": "python",
     "metadata": {},
     "outputs": [],
     "prompt_number": 1
    },
    {
     "cell_type": "markdown",
     "metadata": {},
     "source": [
      "## Helper functions"
     ]
    },
    {
     "cell_type": "code",
     "collapsed": false,
     "input": [
      "# Computes the step response of a linear system.\n",
      "def simple_step(A, B, DT, N):\n",
      "    n  = A.shape[0]\n",
      "    Ad = scipy.linalg.expm((A * DT))\n",
      "    Bd = (Ad - np.eye(n)) * B\n",
      "    Bd = np.linalg.solve(A, Bd)\n",
      "    X  = np.mat(np.zeros((n, N)))\n",
      "    for k in range(1, N):\n",
      "        X[:, k] = Ad * X[:, k-1] + Bd;\n",
      "    return X"
     ],
     "language": "python",
     "metadata": {},
     "outputs": [],
     "prompt_number": 2
    },
    {
     "cell_type": "markdown",
     "metadata": {},
     "source": [
      "## Generate problem data"
     ]
    },
    {
     "cell_type": "code",
     "collapsed": false,
     "input": [
      "#\n",
      "# Circuit parameters.\n",
      "#\n",
      "\n",
      "dim=4            # Grid is dimxdim (assume dim is even).\n",
      "n=(dim+1)**2     # Number of nodes.\n",
      "m=2*dim*(dim+1)  # Number of wires.\n",
      "                 #   0 ... dim(dim+1)-1 are horizontal segments\n",
      "                 #     (numbered rowwise);\n",
      "                 #   dim(dim+1) ... 2*dim(dim+1)-1 are vertical\n",
      "                 #     (numbered columnwise)\n",
      "beta = 0.5       # Capacitance per segment is twice beta times xi.\n",
      "alpha = 1        # Conductance per segment is alpha times xi.\n",
      "G0 = 1           # Source conductance.\n",
      "C0 = np.array([ (      10,     2,     7,     5,     3),\n",
      "                (       8,     3,     9,     5,     5),\n",
      "                (       1,     8,     4,     9,     3),\n",
      "                (       7,     3,     6,     8,     2),\n",
      "                (       5,     2,     1,     9,    10) ])\n",
      "wmax = 1        # Upper bound on x.\n",
      "\n",
      "#\n",
      "# Build capacitance and conductance matrices.\n",
      "#\n",
      "\n",
      "CC = np.zeros((dim+1, dim+1, dim+1, dim+1, m+1))\n",
      "GG = np.zeros((dim+1, dim+1, dim+1, dim+1, m+1))\n",
      "\n",
      "# Constant terms.\n",
      "# - Reshape order='F' is fortran order to match original\n",
      "#   version in MATLAB code.\n",
      "CC[:, :, :, :, 0] = np.diag(C0.flatten(1)).reshape(dim+1, dim+1,\n",
      "                                dim+1, dim+1, order='F').copy()\n",
      "zo13 = np.zeros((2, 1, 2, 1))\n",
      "zo13[:,0,:,0] = np.mat([(1, 0), (0, 1)])\n",
      "zo24 = np.zeros((1, 2, 1, 2))\n",
      "zo24[0,:,0,:] = zo13[:, 0, :, 0]\n",
      "pn13 = np.zeros((2, 1, 2, 1))\n",
      "pn13[:,0,:,0] = np.mat([(1, -1), (-1, 1)]).reshape(2, 1, 2, 1,\n",
      "                                              order='F').copy()\n",
      "pn24 = np.zeros((1, 2, 1, 2))\n",
      "pn24[0, :, 0, :] = pn13[:, 0, :, 0]\n",
      "\n",
      "for i in range(dim+1):\n",
      "    # Source conductance.\n",
      "    # First driver in the middle of row 1.\n",
      "    GG[dim/2, i, dim/2, i, 0] = G0\n",
      "    for j in range(dim):\n",
      "        # Horizontal segments.\n",
      "        node = 1 + j + i * dim\n",
      "        CC[j:j+2, i, j:j+2, i, node] = beta * zo13[:, 0, :, 0]\n",
      "        GG[j:j+2, i, j:j+2, i, node] = alpha * pn13[:, 0, :, 0]\n",
      "        # Vertical segments.\n",
      "        node = node + dim * ( dim + 1 )\n",
      "        CC[i, j:j+2, i, j:j+2, node] = beta * zo24[0, :, 0, :]\n",
      "        GG[i, j:j+2, i, j:j+2, node] = alpha * pn24[0, :, 0, :]\n",
      "\n",
      "# Reshape for ease of use.\n",
      "CC = CC.reshape((n*n, m+1), order='F').copy()\n",
      "GG = GG.reshape((n*n, m+1), order='F').copy()\n",
      "\n",
      "#\n",
      "# Compute points the tradeoff curve, and the three sample points.\n",
      "#\n",
      "\n",
      "npts    = 50\n",
      "delays  = np.linspace(50, 150, npts)\n",
      "xdelays = [50, 100]\n",
      "xnpts   = len(xdelays)\n",
      "areas   = np.zeros(npts)\n",
      "xareas  = dict()"
     ],
     "language": "python",
     "metadata": {},
     "outputs": [],
     "prompt_number": 3
    },
    {
     "cell_type": "markdown",
     "metadata": {},
     "source": [
      "## Solve problem and display results"
     ]
    },
    {
     "cell_type": "code",
     "collapsed": false,
     "input": [
      "# Iterate over all points, and revisit specific points\n",
      "for i in range(npts + xnpts):\n",
      "    # First pass, only gather minimal data from all cases.\n",
      "    if i < npts:\n",
      "        delay = delays[i]\n",
      "        print( ('Point {} of {} on the tradeoff curve ' \\\n",
      "              + '(Tmax = {})').format(i+1, npts, delay))\n",
      "    # Second pass, gather more data for specific cases,\n",
      "    # and make plots (later).\n",
      "    else:\n",
      "        xi = i - npts\n",
      "        delay = xdelays[xi]\n",
      "        print( ('Particular solution {} of {} ' \\\n",
      "              + '(Tmax = {})').format(xi+1, xnpts, delay))\n",
      "\n",
      "    #\n",
      "    # Construct and solve the convex model.\n",
      "    #\n",
      "\n",
      "    # Variables.\n",
      "    xt = cvx.Variable(m+1) # Element 1 of xt == 1 below.\n",
      "    G = cvx.Variable(n,n)  # Symmetric constraint below.\n",
      "    C = cvx.Variable(n,n)  # Symmetric constraint below.\n",
      "    \n",
      "    # Objective.\n",
      "    obj = cvx.Minimize(cvx.sum_entries(C))\n",
      "\n",
      "    # Constraints.\n",
      "    constraints = [ xt[0] == 1,\n",
      "                    G == G.T,\n",
      "                    C == C.T,\n",
      "                    G == cvx.reshape(GG*xt,n,n),\n",
      "                    C == cvx.reshape(CC*xt,n,n),\n",
      "                    delay * G - C == cvx.semidefinite(n),\n",
      "                    0 <= xt[1:],\n",
      "                    xt[1:] <= wmax,\n",
      "                  ]\n",
      "\n",
      "    #Solve problem\n",
      "    prob = cvx.Problem(obj, constraints)\n",
      "    prob.solve()\n",
      "    if prob.status != cvx.OPTIMAL:\n",
      "        raise Exception('CVXPY Error')\n",
      "    \n",
      "    # Chop off the first element of x, which is \n",
      "    # constrainted to be 1\n",
      "    x = xt.value[1:] \n",
      "\n",
      "    # First pass, only gather minimal data from all cases.\n",
      "    if i < npts:\n",
      "        areas[i] = sum(x)\n",
      "    # Second pass, gather more data for specific cases,\n",
      "    # and make plots.\n",
      "    else:\n",
      "        xareas[xi] = sum(x)\n",
      "\n",
      "        #\n",
      "        # Print display sizes.\n",
      "        #\n",
      "\n",
      "        print 'Solution {}:'.format(xi+1)\n",
      "        print 'Vertical segments:'\n",
      "        print x[0:dim*(dim+1)].reshape(dim, dim+1, order='F').copy()\n",
      "        print 'Horizontal segments:'\n",
      "        print x[dim*(dim+1):].reshape(dim, dim+1, order='F').copy()\n",
      "\n",
      "        #\n",
      "        # Determine and plot the step responses.\n",
      "        #\n",
      "\n",
      "        A = -np.linalg.inv(C.value)*G.value\n",
      "        B = -A*np.ones((n, 1))\n",
      "        T = np.linspace(0, 500, 2000)\n",
      "        Y = simple_step(A, B, T[1], len(T))\n",
      "        indmax = -1\n",
      "        indmin = np.inf\n",
      "        for j in range(Y.shape[0]):\n",
      "            inds = np.amin(np.nonzero(Y[j, :] >= 0.5)[1])\n",
      "            if ( inds > indmax ):\n",
      "               indmax = inds\n",
      "               jmax = j\n",
      "            if ( inds < indmin ):\n",
      "               indmin = inds\n",
      "               jmin = j\n",
      "        tthres = T[indmax]\n",
      "        GinvC  = np.linalg.solve(G.value, C.value)\n",
      "        tdom   = max(np.linalg.eig(GinvC)[0])\n",
      "        elmore = np.amax(np.sum(GinvC.T, 0))\n",
      "        plt.figure(figsize=(8, 8))\n",
      "        plt.plot( T, np.asarray(Y[jmax,:]).flatten(), '-',\n",
      "                  T, np.asarray(Y[jmin,:]).flatten() )\n",
      "        plt.plot( tdom   * np.array([1, 1]), [0, 1], '--',\n",
      "                  elmore * np.array([1, 1]), [0, 1], '--',\n",
      "                  tthres * np.array([1, 1]), [0, 1], '--' )\n",
      "        plt.xlim([0, 500])\n",
      "        plt.ylim([0, 1])\n",
      "        plt.text(tdom, 0.92, 'd')\n",
      "        plt.text(elmore, 0.88, 'e')\n",
      "        plt.text(tthres, 0.96, 't')\n",
      "        plt.text( T[600], Y[jmax, 600], 'v{}'.format(jmax+1))\n",
      "        plt.text( T[600], Y[jmin, 600], 'v{}'.format(jmin+1))\n",
      "        plt.title(('Solution {} (Tmax={}), fastest ' \\\n",
      "                    + 'and slowest step responses').format(xi+1, delay), fontsize=16)\n",
      "        plt.show()\n",
      "\n",
      "#\n",
      "# Plot the tradeoff curve.\n",
      "#\n",
      "\n",
      "plt.figure(figsize=(8, 8))\n",
      "ind = np.isfinite(areas)\n",
      "plt.plot(areas[ind], delays[ind])\n",
      "plt.xlabel('Area')\n",
      "plt.ylabel('Tdom')\n",
      "plt.title('Area-delay tradeoff curve')\n",
      "# Label the specific cases.\n",
      "for k in range(xnpts):\n",
      "    plt.text(xareas[k][0, 0], xdelays[k], '({})'.format(k+1))\n",
      "plt.show()"
     ],
     "language": "python",
     "metadata": {},
     "outputs": [
      {
       "output_type": "stream",
       "stream": "stdout",
       "text": [
        "Point 1 of 50 on the tradeoff curve (Tmax = 50.0)\n",
        "Point 2 of 50 on the tradeoff curve (Tmax = 52.0408163265)"
       ]
      },
      {
       "output_type": "stream",
       "stream": "stdout",
       "text": [
        "\n",
        "Point 3 of 50 on the tradeoff curve (Tmax = 54.0816326531)"
       ]
      },
      {
       "output_type": "stream",
       "stream": "stdout",
       "text": [
        "\n",
        "Point 4 of 50 on the tradeoff curve (Tmax = 56.1224489796)"
       ]
      },
      {
       "output_type": "stream",
       "stream": "stdout",
       "text": [
        "\n",
        "Point 5 of 50 on the tradeoff curve (Tmax = 58.1632653061)"
       ]
      },
      {
       "output_type": "stream",
       "stream": "stdout",
       "text": [
        "\n",
        "Point 6 of 50 on the tradeoff curve (Tmax = 60.2040816327)"
       ]
      },
      {
       "output_type": "stream",
       "stream": "stdout",
       "text": [
        "\n",
        "Point 7 of 50 on the tradeoff curve (Tmax = 62.2448979592)"
       ]
      },
      {
       "output_type": "stream",
       "stream": "stdout",
       "text": [
        "\n",
        "Point 8 of 50 on the tradeoff curve (Tmax = 64.2857142857)"
       ]
      },
      {
       "output_type": "stream",
       "stream": "stdout",
       "text": [
        "\n",
        "Point 9 of 50 on the tradeoff curve (Tmax = 66.3265306122)"
       ]
      },
      {
       "output_type": "stream",
       "stream": "stdout",
       "text": [
        "\n",
        "Point 10 of 50 on the tradeoff curve (Tmax = 68.3673469388)"
       ]
      },
      {
       "output_type": "stream",
       "stream": "stdout",
       "text": [
        "\n",
        "Point 11 of 50 on the tradeoff curve (Tmax = 70.4081632653)"
       ]
      },
      {
       "output_type": "stream",
       "stream": "stdout",
       "text": [
        "\n",
        "Point 12 of 50 on the tradeoff curve (Tmax = 72.4489795918)"
       ]
      },
      {
       "output_type": "stream",
       "stream": "stdout",
       "text": [
        "\n",
        "Point 13 of 50 on the tradeoff curve (Tmax = 74.4897959184)"
       ]
      },
      {
       "output_type": "stream",
       "stream": "stdout",
       "text": [
        "\n",
        "Point 14 of 50 on the tradeoff curve (Tmax = 76.5306122449)"
       ]
      },
      {
       "output_type": "stream",
       "stream": "stdout",
       "text": [
        "\n",
        "Point 15 of 50 on the tradeoff curve (Tmax = 78.5714285714)"
       ]
      },
      {
       "output_type": "stream",
       "stream": "stdout",
       "text": [
        "\n",
        "Point 16 of 50 on the tradeoff curve (Tmax = 80.612244898)"
       ]
      },
      {
       "output_type": "stream",
       "stream": "stdout",
       "text": [
        "\n",
        "Point 17 of 50 on the tradeoff curve (Tmax = 82.6530612245)"
       ]
      },
      {
       "output_type": "stream",
       "stream": "stdout",
       "text": [
        "\n",
        "Point 18 of 50 on the tradeoff curve (Tmax = 84.693877551)"
       ]
      },
      {
       "output_type": "stream",
       "stream": "stdout",
       "text": [
        "\n",
        "Point 19 of 50 on the tradeoff curve (Tmax = 86.7346938776)"
       ]
      },
      {
       "output_type": "stream",
       "stream": "stdout",
       "text": [
        "\n",
        "Point 20 of 50 on the tradeoff curve (Tmax = 88.7755102041)"
       ]
      },
      {
       "output_type": "stream",
       "stream": "stdout",
       "text": [
        "\n",
        "Point 21 of 50 on the tradeoff curve (Tmax = 90.8163265306)"
       ]
      },
      {
       "output_type": "stream",
       "stream": "stdout",
       "text": [
        "\n",
        "Point 22 of 50 on the tradeoff curve (Tmax = 92.8571428571)"
       ]
      },
      {
       "output_type": "stream",
       "stream": "stdout",
       "text": [
        "\n",
        "Point 23 of 50 on the tradeoff curve (Tmax = 94.8979591837)"
       ]
      },
      {
       "output_type": "stream",
       "stream": "stdout",
       "text": [
        "\n",
        "Point 24 of 50 on the tradeoff curve (Tmax = 96.9387755102)"
       ]
      },
      {
       "output_type": "stream",
       "stream": "stdout",
       "text": [
        "\n",
        "Point 25 of 50 on the tradeoff curve (Tmax = 98.9795918367)"
       ]
      },
      {
       "output_type": "stream",
       "stream": "stdout",
       "text": [
        "\n",
        "Point 26 of 50 on the tradeoff curve (Tmax = 101.020408163)"
       ]
      },
      {
       "output_type": "stream",
       "stream": "stdout",
       "text": [
        "\n",
        "Point 27 of 50 on the tradeoff curve (Tmax = 103.06122449)"
       ]
      },
      {
       "output_type": "stream",
       "stream": "stdout",
       "text": [
        "\n",
        "Point 28 of 50 on the tradeoff curve (Tmax = 105.102040816)"
       ]
      },
      {
       "output_type": "stream",
       "stream": "stdout",
       "text": [
        "\n",
        "Point 29 of 50 on the tradeoff curve (Tmax = 107.142857143)"
       ]
      },
      {
       "output_type": "stream",
       "stream": "stdout",
       "text": [
        "\n",
        "Point 30 of 50 on the tradeoff curve (Tmax = 109.183673469)"
       ]
      },
      {
       "output_type": "stream",
       "stream": "stdout",
       "text": [
        "\n",
        "Point 31 of 50 on the tradeoff curve (Tmax = 111.224489796)"
       ]
      },
      {
       "output_type": "stream",
       "stream": "stdout",
       "text": [
        "\n",
        "Point 32 of 50 on the tradeoff curve (Tmax = 113.265306122)"
       ]
      },
      {
       "output_type": "stream",
       "stream": "stdout",
       "text": [
        "\n",
        "Point 33 of 50 on the tradeoff curve (Tmax = 115.306122449)"
       ]
      },
      {
       "output_type": "stream",
       "stream": "stdout",
       "text": [
        "\n",
        "Point 34 of 50 on the tradeoff curve (Tmax = 117.346938776)"
       ]
      },
      {
       "output_type": "stream",
       "stream": "stdout",
       "text": [
        "\n",
        "Point 35 of 50 on the tradeoff curve (Tmax = 119.387755102)"
       ]
      },
      {
       "output_type": "stream",
       "stream": "stdout",
       "text": [
        "\n",
        "Point 36 of 50 on the tradeoff curve (Tmax = 121.428571429)"
       ]
      },
      {
       "output_type": "stream",
       "stream": "stdout",
       "text": [
        "\n",
        "Point 37 of 50 on the tradeoff curve (Tmax = 123.469387755)"
       ]
      },
      {
       "output_type": "stream",
       "stream": "stdout",
       "text": [
        "\n",
        "Point 38 of 50 on the tradeoff curve (Tmax = 125.510204082)"
       ]
      },
      {
       "output_type": "stream",
       "stream": "stdout",
       "text": [
        "\n",
        "Point 39 of 50 on the tradeoff curve (Tmax = 127.551020408)"
       ]
      },
      {
       "output_type": "stream",
       "stream": "stdout",
       "text": [
        "\n",
        "Point 40 of 50 on the tradeoff curve (Tmax = 129.591836735)"
       ]
      },
      {
       "output_type": "stream",
       "stream": "stdout",
       "text": [
        "\n",
        "Point 41 of 50 on the tradeoff curve (Tmax = 131.632653061)"
       ]
      },
      {
       "output_type": "stream",
       "stream": "stdout",
       "text": [
        "\n",
        "Point 42 of 50 on the tradeoff curve (Tmax = 133.673469388)"
       ]
      },
      {
       "output_type": "stream",
       "stream": "stdout",
       "text": [
        "\n",
        "Point 43 of 50 on the tradeoff curve (Tmax = 135.714285714)"
       ]
      },
      {
       "output_type": "stream",
       "stream": "stdout",
       "text": [
        "\n",
        "Point 44 of 50 on the tradeoff curve (Tmax = 137.755102041)"
       ]
      },
      {
       "output_type": "stream",
       "stream": "stdout",
       "text": [
        "\n",
        "Point 45 of 50 on the tradeoff curve (Tmax = 139.795918367)"
       ]
      },
      {
       "output_type": "stream",
       "stream": "stdout",
       "text": [
        "\n",
        "Point 46 of 50 on the tradeoff curve (Tmax = 141.836734694)"
       ]
      },
      {
       "output_type": "stream",
       "stream": "stdout",
       "text": [
        "\n",
        "Point 47 of 50 on the tradeoff curve (Tmax = 143.87755102)"
       ]
      },
      {
       "output_type": "stream",
       "stream": "stdout",
       "text": [
        "\n",
        "Point 48 of 50 on the tradeoff curve (Tmax = 145.918367347)"
       ]
      },
      {
       "output_type": "stream",
       "stream": "stdout",
       "text": [
        "\n",
        "Point 49 of 50 on the tradeoff curve (Tmax = 147.959183673)"
       ]
      },
      {
       "output_type": "stream",
       "stream": "stdout",
       "text": [
        "\n",
        "Point 50 of 50 on the tradeoff curve (Tmax = 150.0)"
       ]
      },
      {
       "output_type": "stream",
       "stream": "stdout",
       "text": [
        "\n",
        "Particular solution 1 of 2 (Tmax = 50)"
       ]
      },
      {
       "output_type": "stream",
       "stream": "stdout",
       "text": [
        "\n",
        "Solution 1:"
       ]
      },
      {
       "output_type": "stream",
       "stream": "stdout",
       "text": [
        "\n",
        "Vertical segments:\n",
        "[[ 0.65284882  0.43914815  0.52378621  0.47092764  0.2363529 ]\n",
        " [ 0.99999993  0.85353862  0.99999992  0.93601078  0.56994586]\n",
        " [ 0.92325575  0.29557654  0.80041338  0.99999998  0.99999997]\n",
        " [ 0.41300012  0.13553757  0.2669595   0.67052446  0.88916616]]\n",
        "Horizontal segments:\n",
        "[[  1.96483126e-01   1.40596803e-01   9.70626705e-08   7.79402881e-08\n",
        "    5.27443052e-08]\n",
        " [  7.07398539e-02   6.38484524e-02   1.02140260e-07   8.59944055e-08\n",
        "    6.28925713e-08]\n",
        " [  6.05767602e-09   1.16283806e-08   3.91571854e-08   9.48410302e-02\n",
        "    1.58066266e-01]\n",
        " [  3.82545950e-07   4.85731010e-07   5.75605677e-07   8.39881857e-02\n",
        "    5.38622815e-02]]\n"
       ]
      },
      {
       "metadata": {},
       "output_type": "display_data",
       "png": "[encoded data removed]",
       "text": [
        "<matplotlib.figure.Figure at 0x10be9ad10>"
       ]
      },
      {
       "output_type": "stream",
       "stream": "stdout",
       "text": [
        "Particular solution 2 of 2 (Tmax = 100)\n",
        "Solution 2:"
       ]
      },
      {
       "output_type": "stream",
       "stream": "stdout",
       "text": [
        "\n",
        "Vertical segments:\n",
        "[[ 0.2687881   0.04368684  0.17122094  0.133796    0.07360396]\n",
        " [ 0.41346231  0.08016135  0.30642705  0.2224136   0.1484946 ]\n",
        " [ 0.25755998  0.08016077  0.11200259  0.38352317  0.28159768]\n",
        " [ 0.13439419  0.04368697  0.02445701  0.24083502  0.24534599]]\n",
        "Horizontal segments:\n",
        "[[  1.53855410e-09  -5.23587127e-10  -9.80490802e-10  -5.24181222e-10\n",
        "    1.57139441e-09]\n",
        " [  9.23247193e-10  -9.62055797e-10  -1.35575286e-09  -1.00214999e-09\n",
        "    1.03091536e-09]\n",
        " [  9.28915561e-10  -9.17583441e-10  -2.28746351e-10  -7.97319598e-10\n",
        "    1.50656575e-09]\n",
        " [  1.31797933e-09  -8.55786438e-10  -1.39925180e-09  -8.38253904e-10\n",
        "    1.27501273e-09]]\n"
       ]
      },
      {
       "metadata": {},
       "output_type": "display_data",
       "png": "[encoded data removed]",
       "text": [
        "<matplotlib.figure.Figure at 0x10e945a50>"
       ]
      },
      {
       "metadata": {},
       "output_type": "display_data",
       "png": "[encoded data removed]",
       "text": [
        "<matplotlib.figure.Figure at 0x10ecffc10>"
       ]
      }
     ],
     "prompt_number": 4
    }
   ],
   "metadata": {}
  }
 ]
}