{
 "metadata": {
  "name": ""
 },
 "nbformat": 3,
 "nbformat_minor": 0,
 "worksheets": [
  {
   "cells": [
    {
     "cell_type": "code",
     "collapsed": false,
     "input": [
      "import cvxpy as cp\n",
      "import numpy as np\n",
      "import math\n",
      "\n",
      "\n",
      "n = 1000\n",
      "nnz = 5*int(math.ceil(math.log(n)))\n",
      "m = int(math.ceil(nnz*math.log(n)))\n",
      "\n",
      "A = np.random.randn(m,n)\n",
      "x = np.zeros(n)\n",
      "inds = []\n",
      "\n",
      "for i in np.random.random_integers(0,n-1,nnz):\n",
      "    x[i] = np.sign(np.random.randn(1))\n",
      "    inds.append(i)\n",
      "\n",
      "xstar = x\n",
      "b = A.dot(x)\n",
      "gamma = .02*b.std()\n",
      "b += gamma*np.random.randn(m)\n",
      "\n",
      "#gamma = .1\n",
      "\n",
      "# Construct the problem.\n",
      "x = cp.Variable(n)\n",
      "objective = cp.Minimize(cp.norm(A*x - b,2) + gamma*cp.norm(x, 1))\n",
      "p = cp.Problem(objective)\n",
      "result = p.solve(solver=cp.ECOS, verbose=True)\n",
      "\n",
      "x1 = np.array(x.value).flatten()\n",
      "\n",
      "x = cp.Variable(n)\n",
      "objective = cp.Minimize(cp.norm(A*x - b, 2) + gamma*cp.norm(x,2))\n",
      "p = cp.Problem(objective)\n",
      "result = p.solve(solver=cp.ECOS, verbose=True)\n",
      "\n",
      "x2 = np.array(x.value).flatten()\n",
      "\n",
      "print [i for i in range(n) if abs(x1[i]) > .1]"
     ],
     "language": "python",
     "metadata": {},
     "outputs": [
      {
       "output_type": "stream",
       "stream": "stdout",
       "text": [
        "\n",
        "ECOS 1.0.3 - (c) A. Domahidi, Automatic Control Laboratory, ETH Zurich, 2012-2014.\n",
        "\n",
        "It     pcost         dcost      gap     pres    dres     k/t     mu      step     IR\n",
        " 0   +1.745e-18   +4.480e-18   +5e+02   4e+01   1e-02   1e+00   2e-01    N/A     1 1 -\n",
        " 1   +5.174e-01   +5.232e-01   +6e+01   4e+00   2e-03   1e-01   3e-02   0.8805   1 1 1\n"
       ]
      },
      {
       "output_type": "stream",
       "stream": "stdout",
       "text": [
        " 2   +2.571e+00   +2.570e+00   +3e+01   2e+00   8e-04   5e-02   1e-02   0.5614   1 1 1\n",
        " 3   +3.513e+00   +3.508e+00   +1e+01   1e+00   4e-04   2e-02   7e-03   0.5905   1 1 1\n"
       ]
      },
      {
       "output_type": "stream",
       "stream": "stdout",
       "text": [
        " 4   +3.751e+00   +3.747e+00   +9e+00   6e-01   2e-04   1e-02   5e-03   0.4607   2 1 1\n",
        " 5   +3.739e+00   +3.732e+00   +5e+00   3e-01   1e-04   2e-03   2e-03   0.9843   2 1 1\n"
       ]
      },
      {
       "output_type": "stream",
       "stream": "stdout",
       "text": [
        " 6   +3.944e+00   +3.943e+00   +7e-01   5e-02   2e-05   3e-04   4e-04   0.8511   2 1 1\n",
        " 7   +3.993e+00   +3.993e+00   +3e-01   2e-02   9e-06   1e-04   2e-04   0.7360   3 2 2\n"
       ]
      },
      {
       "output_type": "stream",
       "stream": "stdout",
       "text": [
        " 8   +4.014e+00   +4.013e+00   +1e-01   8e-03   3e-06   5e-05   6e-05   0.7271   3 3 3\n",
        " 9   +4.020e+00   +4.020e+00   +5e-02   4e-03   1e-06   2e-05   3e-05   0.6801   3 3 3\n"
       ]
      },
      {
       "output_type": "stream",
       "stream": "stdout",
       "text": [
        "10   +4.022e+00   +4.022e+00   +3e-02   2e-03   8e-07   1e-05   1e-05   0.5803   3 3 3\n",
        "11   +4.024e+00   +4.024e+00   +1e-02   8e-04   3e-07   5e-06   6e-06   0.7525   3 3 3\n"
       ]
      },
      {
       "output_type": "stream",
       "stream": "stdout",
       "text": [
        "12   +4.025e+00   +4.025e+00   +5e-03   4e-04   1e-07   2e-06   3e-06   0.7882   3 3 3\n",
        "13   +4.025e+00   +4.025e+00   +2e-03   1e-04   5e-08   7e-07   9e-07   0.7399   2 2 2\n"
       ]
      },
      {
       "output_type": "stream",
       "stream": "stdout",
       "text": [
        "14   +4.025e+00   +4.025e+00   +7e-04   5e-05   2e-08   3e-07   4e-07   0.6821   1 2 2\n",
        "15   +4.025e+00   +4.025e+00   +2e-04   1e-05   4e-09   7e-08   8e-08   0.9145   1 2 2\n"
       ]
      },
      {
       "output_type": "stream",
       "stream": "stdout",
       "text": [
        "16   +4.025e+00   +4.025e+00   +3e-05   2e-06   8e-10   1e-08   2e-08   0.8771   2 1 1\n",
        "17   +4.025e+00   +4.025e+00   +3e-06   2e-07   9e-11   1e-09   2e-09   0.8970   2 1 1\n"
       ]
      },
      {
       "output_type": "stream",
       "stream": "stdout",
       "text": [
        "18   +4.025e+00   +4.025e+00   +1e-06   9e-08   3e-11   5e-10   6e-10   0.6908   2 1 1\n",
        "19   +4.025e+00   +4.025e+00   +2e-07   2e-08   6e-12   1e-10   1e-10   0.9265   2 1 1\n"
       ]
      },
      {
       "output_type": "stream",
       "stream": "stdout",
       "text": [
        "\n",
        "OPTIMAL (within feastol=1.6e-08, reltol=6.0e-08, abstol=2.4e-07).\n",
        "Runtime: 5.362493 seconds.\n",
        "\n",
        "\n",
        "ECOS 1.0.3 - (c) A. Domahidi, Automatic Control Laboratory, ETH Zurich, 2012-2014.\n",
        "\n"
       ]
      },
      {
       "output_type": "stream",
       "stream": "stdout",
       "text": [
        "It     pcost         dcost      gap     pres    dres     k/t     mu      step     IR\n",
        " 0   +0.000e+00   -0.000e+00   +7e+01   1e+00   4e-04   1e+00   3e+01    N/A     1 1 -\n",
        " 1   -1.878e+00   +3.219e-01   +3e+01   5e-01   2e-04   3e+00   1e+01   0.6585   1 1 1\n"
       ]
      },
      {
       "output_type": "stream",
       "stream": "stdout",
       "text": [
        " 2   +2.884e-01   +3.114e-01   +3e-01   5e-03   2e-06   3e-02   1e-01   0.9899   2 1 1\n",
        " 3   +3.131e-01   +3.135e-01   +4e-03   8e-05   3e-08   4e-04   2e-03   0.9856   2 1 1\n"
       ]
      },
      {
       "output_type": "stream",
       "stream": "stdout",
       "text": [
        " 4   +3.135e-01   +3.136e-01   +4e-04   7e-06   3e-09   4e-05   1e-04   0.9110   3 1 1\n",
        " 5   +3.136e-01   +3.136e-01   +2e-05   5e-07   2e-10   7e-06   1e-05   0.9727   3 1 1\n"
       ]
      },
      {
       "output_type": "stream",
       "stream": "stdout",
       "text": [
        " 6   +3.136e-01   +3.136e-01   +3e-06   6e-08   2e-11   9e-07   1e-06   0.8647   3 1 1\n",
        " 7   +3.136e-01   +3.136e-01   +7e-07   2e-08   6e-12   3e-07   3e-07   0.8629   2 1 2\n"
       ]
      },
      {
       "output_type": "stream",
       "stream": "stdout",
       "text": [
        " 8   +3.136e-01   +3.136e-01   +1e-07   3e-09   1e-12   5e-08   6e-08   0.8161   2 1 1\n",
        " 9   +3.136e-01   +3.136e-01   +4e-08   9e-10   4e-13   2e-08   2e-08   0.8084   2 1 1\n"
       ]
      },
      {
       "output_type": "stream",
       "stream": "stdout",
       "text": [
        "\n",
        "OPTIMAL (within feastol=9.4e-10, reltol=1.3e-07, abstol=4.2e-08).\n",
        "Runtime: 1.950920 seconds.\n",
        "\n",
        "[2, 8, 29, 86, 149, 168, 173, 176, 199, 255, 261, 263, 292, 303, 334, 341, 391, 407, 425, 609, 633, 689, 704, 785, 790, 809, 813, 831, 855, 887, 905, 912, 916, 926, 963]\n"
       ]
      }
     ],
     "prompt_number": 1
    },
    {
     "cell_type": "code",
     "collapsed": false,
     "input": [
      "import matplotlib.pyplot as plt"
     ],
     "language": "python",
     "metadata": {},
     "outputs": [],
     "prompt_number": 2
    },
    {
     "cell_type": "code",
     "collapsed": false,
     "input": [
      "x = np.arange(len(x1))\n",
      "plt.plot(x,xstar)"
     ],
     "language": "python",
     "metadata": {},
     "outputs": [
      {
       "metadata": {},
       "output_type": "pyout",
       "prompt_number": 3,
       "text": [
        "[<matplotlib.lines.Line2D at 0x1020cb490>]"
       ]
      },
      {
       "metadata": {},
       "output_type": "display_data",
       "png": "[encoded data removed]",
       "text": [
        "<matplotlib.figure.Figure at 0x1086d7350>"
       ]
      }
     ],
     "prompt_number": 3
    },
    {
     "cell_type": "code",
     "collapsed": false,
     "input": [
      "plt.plot(x,x1)"
     ],
     "language": "python",
     "metadata": {},
     "outputs": [
      {
       "metadata": {},
       "output_type": "pyout",
       "prompt_number": 4,
       "text": [
        "[<matplotlib.lines.Line2D at 0x10bd6d950>]"
       ]
      },
      {
       "metadata": {},
       "output_type": "display_data",
       "png": "[encoded data removed]",
       "text": [
        "<matplotlib.figure.Figure at 0x109910150>"
       ]
      }
     ],
     "prompt_number": 4
    },
    {
     "cell_type": "code",
     "collapsed": false,
     "input": [
      "plt.plot(x,x2)"
     ],
     "language": "python",
     "metadata": {},
     "outputs": [
      {
       "metadata": {},
       "output_type": "pyout",
       "prompt_number": 5,
       "text": [
        "[<matplotlib.lines.Line2D at 0x10bda2750>]"
       ]
      },
      {
       "metadata": {},
       "output_type": "display_data",
       "png": "[encoded data removed]",
       "text": [
        "<matplotlib.figure.Figure at 0x1020e0650>"
       ]
      }
     ],
     "prompt_number": 5
    },
    {
     "cell_type": "code",
     "collapsed": false,
     "input": [
      "b.shape"
     ],
     "language": "python",
     "metadata": {},
     "outputs": [
      {
       "metadata": {},
       "output_type": "pyout",
       "prompt_number": 91,
       "text": [
        "(200,)"
       ]
      }
     ],
     "prompt_number": 91
    },
    {
     "cell_type": "code",
     "collapsed": false,
     "input": [
      "n"
     ],
     "language": "python",
     "metadata": {},
     "outputs": [
      {
       "metadata": {},
       "output_type": "pyout",
       "prompt_number": 96,
       "text": [
        "15"
       ]
      }
     ],
     "prompt_number": 96
    },
    {
     "cell_type": "code",
     "collapsed": false,
     "input": [
      "5*math.log(1000)"
     ],
     "language": "python",
     "metadata": {},
     "outputs": [
      {
       "metadata": {},
       "output_type": "pyout",
       "prompt_number": 118,
       "text": [
        "34.538776394910684"
       ]
      }
     ],
     "prompt_number": 118
    },
    {
     "cell_type": "code",
     "collapsed": false,
     "input": [
      "math.sqrt(1000)"
     ],
     "language": "python",
     "metadata": {},
     "outputs": [
      {
       "metadata": {},
       "output_type": "pyout",
       "prompt_number": 119,
       "text": [
        "31.622776601683793"
       ]
      }
     ],
     "prompt_number": 119
    },
    {
     "cell_type": "code",
     "collapsed": false,
     "input": [
      "np.sign(10)"
     ],
     "language": "python",
     "metadata": {},
     "outputs": [
      {
       "metadata": {},
       "output_type": "pyout",
       "prompt_number": 120,
       "text": [
        "1"
       ]
      }
     ],
     "prompt_number": 120
    },
    {
     "cell_type": "code",
     "collapsed": false,
     "input": [
      "n = 1000\n",
      "nnz = 5*int(math.ceil(math.log(n)))\n",
      "m = int(nnz*math.log(n))"
     ],
     "language": "python",
     "metadata": {},
     "outputs": [],
     "prompt_number": 137
    },
    {
     "cell_type": "code",
     "collapsed": false,
     "input": [
      "A.nbytes"
     ],
     "language": "python",
     "metadata": {},
     "outputs": [
      {
       "metadata": {},
       "output_type": "pyout",
       "prompt_number": 11,
       "text": [
        "36880000"
       ]
      }
     ],
     "prompt_number": 11
    },
    {
     "cell_type": "code",
     "collapsed": false,
     "input": [
      "a = p.get_problem_data(cp.ECOS)"
     ],
     "language": "python",
     "metadata": {},
     "outputs": [],
     "prompt_number": 24
    },
    {
     "cell_type": "code",
     "collapsed": false,
     "input": [
      "spy(a[1])"
     ],
     "language": "python",
     "metadata": {},
     "outputs": [
      {
       "metadata": {},
       "output_type": "pyout",
       "prompt_number": 25,
       "text": [
        "<matplotlib.lines.Line2D at 0x10bf59950>"
       ]
      },
      {
       "metadata": {},
       "output_type": "display_data",
       "png": "[encoded data removed]",
       "text": [
        "<matplotlib.figure.Figure at 0x10bda5f10>"
       ]
      }
     ],
     "prompt_number": 25
    },
    {
     "cell_type": "code",
     "collapsed": false,
     "input": [
      "a[1].shape"
     ],
     "language": "python",
     "metadata": {},
     "outputs": [
      {
       "metadata": {},
       "output_type": "pyout",
       "prompt_number": 26,
       "text": [
        "(67, 22)"
       ]
      }
     ],
     "prompt_number": 26
    },
    {
     "cell_type": "code",
     "collapsed": false,
     "input": [
      "A.shape"
     ],
     "language": "python",
     "metadata": {},
     "outputs": [
      {
       "metadata": {},
       "output_type": "pyout",
       "prompt_number": 22,
       "text": [
        "(242, 1000)"
       ]
      }
     ],
     "prompt_number": 22
    },
    {
     "cell_type": "markdown",
     "metadata": {},
     "source": [
      "# huge, sparse example"
     ]
    },
    {
     "cell_type": "code",
     "collapsed": false,
     "input": [],
     "language": "python",
     "metadata": {},
     "outputs": []
    }
   ],
   "metadata": {}
  }
 ]
}