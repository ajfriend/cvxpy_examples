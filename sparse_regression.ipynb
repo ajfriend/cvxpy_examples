{
 "metadata": {
  "name": "",
  "signature": "sha256:f52a851ec1172ab8e03e44a7add82dce19274156ea1999fa84b7f02b00fad614"
 },
 "nbformat": 3,
 "nbformat_minor": 0,
 "worksheets": [
  {
   "cells": [
    {
     "cell_type": "code",
     "collapsed": false,
     "input": [
      "import cvxpy as cp\n",
      "import numpy as np\n",
      "import math\n",
      "\n",
      "n = 2000\n",
      "nnz = 5*int(math.ceil(math.log(n)))\n",
      "m = int(math.ceil(nnz*math.log(n)))\n",
      "\n",
      "print \"%d %d %d\"%(m,n,nnz)\n",
      "\n",
      "A = np.random.randn(m,n)\n",
      "x = np.zeros(n)\n",
      "inds = []\n",
      "\n",
      "for i in np.random.random_integers(0,n-1,nnz):\n",
      "    x[i] = np.sign(np.random.randn(1))\n",
      "    inds.append(i)\n",
      "\n",
      "xstar = x\n",
      "b = A.dot(x)\n",
      "gamma = .02*b.std()\n",
      "v = gamma*np.random.randn(m)\n",
      "b += v\n",
      "\n",
      "print \"gamma is %f\"%(gamma,)\n",
      "print \"var of Ax %f\"%((A.dot(x).var()),)\n",
      "print \"var of v %f\"%((v.var()),)\n",
      "print \"snr %d\"%(A.dot(x).var()/v.var())\n",
      "\n",
      "#gamma = .1\n",
      "\n",
      "# Construct the problem.\n",
      "x = cp.Variable(n)\n",
      "objective = cp.Minimize(cp.norm(A*x - b,2) + gamma*cp.norm(x, 1))\n",
      "p = cp.Problem(objective)\n",
      "result = p.solve(solver=cp.ECOS, verbose=True)\n",
      "\n",
      "x1 = np.array(x.value).flatten()\n",
      "\n",
      "x = cp.Variable(n)\n",
      "objective = cp.Minimize(cp.norm(A*x - b, 2) + gamma*cp.norm(x,2))\n",
      "p = cp.Problem(objective)\n",
      "result = p.solve(solver=cp.ECOS, verbose=True)\n",
      "\n",
      "x2 = np.array(x.value).flatten()\n",
      "\n",
      "print [i for i in range(n) if abs(x1[i]) > .1]"
     ],
     "language": "python",
     "metadata": {},
     "outputs": [
      {
       "output_type": "stream",
       "stream": "stdout",
       "text": [
        "305 2000 40\n",
        "gamma is 0.133288\n",
        "var of Ax 44.414185\n",
        "var of v 0.018711\n",
        "snr 2373\n",
        "\n",
        "ECOS 1.0.4 - (c) A. Domahidi, Automatic Control Laboratory, ETH Zurich, 2012-2014.\n",
        "\n"
       ]
      },
      {
       "output_type": "stream",
       "stream": "stdout",
       "text": [
        "It     pcost         dcost      gap     pres    dres     k/t     mu      step     IR\n",
        " 0   +7.835e-18   +4.665e-18   +1e+03   6e+01   1e-02   1e+00   3e-01    N/A     1 1 -\n",
        " 1   +5.676e-01   +5.737e-01   +9e+01   4e+00   1e-03   9e-02   2e-02   0.9139   1 1 1\n"
       ]
      },
      {
       "output_type": "stream",
       "stream": "stdout",
       "text": [
        " 2   +3.677e+00   +3.677e+00   +5e+01   2e+00   6e-04   4e-02   1e-02   0.5382   1 1 2\n",
        " 3   +4.686e+00   +4.681e+00   +3e+01   1e+00   3e-04   2e-02   7e-03   0.5482   2 1 1\n"
       ]
      },
      {
       "output_type": "stream",
       "stream": "stdout",
       "text": [
        " 4   +4.782e+00   +4.776e+00   +2e+01   1e+00   3e-04   1e-02   5e-03   0.3760   2 1 1\n",
        " 5   +5.079e+00   +5.076e+00   +6e+00   3e-01   7e-05   1e-03   1e-03   0.9869   2 1 1\n"
       ]
      },
      {
       "output_type": "stream",
       "stream": "stdout",
       "text": [
        " 6   +5.217e+00   +5.216e+00   +1e+00   6e-02   1e-05   3e-04   3e-04   0.8037   2 2 2\n",
        " 7   +5.280e+00   +5.280e+00   +6e-01   3e-02   7e-06   1e-04   1e-04   0.5808   3 2 3\n"
       ]
      },
      {
       "output_type": "stream",
       "stream": "stdout",
       "text": [
        " 8   +5.305e+00   +5.305e+00   +3e-01   1e-02   4e-06   7e-05   8e-05   0.6030   3 3 3\n",
        " 9   +5.318e+00   +5.317e+00   +2e-01   8e-03   2e-06   3e-05   4e-05   0.6714   3 3 3\n"
       ]
      },
      {
       "output_type": "stream",
       "stream": "stdout",
       "text": [
        "10   +5.324e+00   +5.324e+00   +6e-02   3e-03   8e-07   1e-05   2e-05   0.7007   3 3 3\n",
        "11   +5.327e+00   +5.327e+00   +3e-02   1e-03   3e-07   6e-06   7e-06   0.7549   3 3 3\n"
       ]
      },
      {
       "output_type": "stream",
       "stream": "stdout",
       "text": [
        "12   +5.328e+00   +5.328e+00   +1e-02   5e-04   1e-07   2e-06   3e-06   0.7048   3 3 3\n",
        "13   +5.328e+00   +5.328e+00   +5e-03   2e-04   6e-08   1e-06   1e-06   0.6526   2 2 2\n"
       ]
      },
      {
       "output_type": "stream",
       "stream": "stdout",
       "text": [
        "14   +5.329e+00   +5.329e+00   +3e-03   1e-04   3e-08   5e-07   6e-07   0.5921   1 2 2\n",
        "15   +5.329e+00   +5.329e+00   +1e-03   5e-05   1e-08   2e-07   2e-07   0.7049   1 2 2\n"
       ]
      },
      {
       "output_type": "stream",
       "stream": "stdout",
       "text": [
        "16   +5.329e+00   +5.329e+00   +3e-04   2e-05   4e-09   7e-08   9e-08   0.6829   1 2 2\n",
        "17   +5.329e+00   +5.329e+00   +9e-05   4e-06   1e-09   2e-08   2e-08   0.8688   2 2 1\n"
       ]
      },
      {
       "output_type": "stream",
       "stream": "stdout",
       "text": [
        "18   +5.329e+00   +5.329e+00   +1e-05   6e-07   2e-10   3e-09   3e-09   0.8805   2 1 1\n",
        "19   +5.329e+00   +5.329e+00   +2e-06   1e-07   3e-11   5e-10   6e-10   0.9019   2 1 1\n"
       ]
      },
      {
       "output_type": "stream",
       "stream": "stdout",
       "text": [
        "20   +5.329e+00   +5.329e+00   +3e-08   1e-09   4e-13   6e-12   8e-12   0.9867   2 1 1\n",
        "\n",
        "OPTIMAL (within feastol=1.4e-09, reltol=5.7e-09, abstol=3.0e-08).\n",
        "Runtime: 16.851290 seconds.\n",
        "\n",
        "\n",
        "ECOS 1.0.4 - (c) A. Domahidi, Automatic Control Laboratory, ETH Zurich, 2012-2014.\n",
        "\n"
       ]
      },
      {
       "output_type": "stream",
       "stream": "stdout",
       "text": [
        "It     pcost         dcost      gap     pres    dres     k/t     mu      step     IR\n",
        " 0   +0.000e+00   -0.000e+00   +1e+02   1e+00   3e-04   1e+00   3e+01    N/A     1 1 -\n",
        " 1   -2.599e+00   +3.543e-01   +4e+01   5e-01   1e-04   3e+00   1e+01   0.6648   1 1 1\n"
       ]
      },
      {
       "output_type": "stream",
       "stream": "stdout",
       "text": [
        " 2   +3.136e-01   +3.446e-01   +4e-01   5e-03   1e-06   4e-02   1e-01   0.9899   1 1 1\n",
        " 3   +3.467e-01   +3.471e-01   +5e-03   7e-05   2e-08   4e-04   2e-03   0.9879   2 1 1\n"
       ]
      },
      {
       "output_type": "stream",
       "stream": "stdout",
       "text": [
        " 4   +3.471e-01   +3.471e-01   +3e-04   4e-06   1e-09   3e-05   1e-04   0.9357   3 1 1\n",
        " 5   +3.472e-01   +3.472e-01   +2e-05   3e-07   7e-11   6e-06   8e-06   0.9814   3 1 2\n"
       ]
      },
      {
       "output_type": "stream",
       "stream": "stdout",
       "text": [
        " 6   +3.472e-01   +3.472e-01   +2e-06   3e-08   9e-12   8e-07   1e-06   0.8781   3 1 1\n",
        " 7   +3.472e-01   +3.472e-01   +6e-07   1e-08   2e-12   2e-07   3e-07   0.8401   2 1 1\n"
       ]
      },
      {
       "output_type": "stream",
       "stream": "stdout",
       "text": [
        " 8   +3.472e-01   +3.472e-01   +1e-07   2e-09   5e-13   4e-08   5e-08   0.8237   2 1 1\n",
        " 9   +3.472e-01   +3.472e-01   +4e-08   6e-10   2e-13   2e-08   2e-08   0.7854   2 1 1\n"
       ]
      },
      {
       "output_type": "stream",
       "stream": "stdout",
       "text": [
        "\n",
        "OPTIMAL (within feastol=6.3e-10, reltol=1.0e-07, abstol=3.6e-08).\n",
        "Runtime: 5.148117 seconds.\n",
        "\n",
        "[7, 30, 215, 242, 268, 269, 279, 308, 355, 403, 466, 496, 527, 564, 598, 615, 619, 660, 761, 770, 958, 972, 973, 1064, 1105, 1117, 1301, 1313, 1316, 1514, 1572, 1641, 1676, 1715, 1770, 1833, 1855, 1944, 1956]\n"
       ]
      }
     ],
     "prompt_number": 5
    },
    {
     "cell_type": "code",
     "collapsed": false,
     "input": [
      "import matplotlib.pyplot as plt"
     ],
     "language": "python",
     "metadata": {},
     "outputs": [],
     "prompt_number": 17
    },
    {
     "cell_type": "code",
     "collapsed": false,
     "input": [
      "plot(range(m),A.dot(xstar), range(m), v)"
     ],
     "language": "python",
     "metadata": {},
     "outputs": [
      {
       "metadata": {},
       "output_type": "pyout",
       "prompt_number": 4,
       "text": [
        "[<matplotlib.lines.Line2D at 0x10dd3ca10>,\n",
        " <matplotlib.lines.Line2D at 0x10dd3cc90>]"
       ]
      },
      {
       "metadata": {},
       "output_type": "display_data",
       "png": "[encoded data removed]",
       "text": [
        "<matplotlib.figure.Figure at 0x10dc140d0>"
       ]
      }
     ],
     "prompt_number": 4
    },
    {
     "cell_type": "code",
     "collapsed": false,
     "input": [
      "plot(v)"
     ],
     "language": "python",
     "metadata": {},
     "outputs": [
      {
       "metadata": {},
       "output_type": "pyout",
       "prompt_number": 3,
       "text": [
        "[<matplotlib.lines.Line2D at 0x1086a4b10>]"
       ]
      },
      {
       "metadata": {},
       "output_type": "display_data",
       "png": "[encoded data removed]",
       "text": [
        "<matplotlib.figure.Figure at 0x10c977b50>"
       ]
      }
     ],
     "prompt_number": 3
    },
    {
     "cell_type": "code",
     "collapsed": false,
     "input": [
      "x1"
     ],
     "language": "python",
     "metadata": {},
     "outputs": [
      {
       "metadata": {},
       "output_type": "pyout",
       "prompt_number": 19,
       "text": [
        "array([  1.80288929e-10,   1.90318644e-10,  -3.09379196e-10, ...,\n",
        "        -1.11516780e-10,   3.13930239e-11,   5.71542626e-10])"
       ]
      }
     ],
     "prompt_number": 19
    },
    {
     "cell_type": "code",
     "collapsed": false,
     "input": [
      "plt.plot(range(len(x1)),x1)"
     ],
     "language": "python",
     "metadata": {},
     "outputs": [
      {
       "metadata": {},
       "output_type": "pyout",
       "prompt_number": 20,
       "text": [
        "[<matplotlib.lines.Line2D at 0x10e68b110>]"
       ]
      },
      {
       "metadata": {},
       "output_type": "display_data",
       "png": "[encoded data removed]",
       "text": [
        "<matplotlib.figure.Figure at 0x111633bd0>"
       ]
      }
     ],
     "prompt_number": 20
    },
    {
     "cell_type": "code",
     "collapsed": false,
     "input": [
      "plt.plot(range(len(x2)),x2)"
     ],
     "language": "python",
     "metadata": {},
     "outputs": [
      {
       "metadata": {},
       "output_type": "pyout",
       "prompt_number": 21,
       "text": [
        "[<matplotlib.lines.Line2D at 0x111760550>]"
       ]
      },
      {
       "metadata": {},
       "output_type": "display_data",
       "png": "[encoded data removed]",
       "text": [
        "<matplotlib.figure.Figure at 0x111e51590>"
       ]
      }
     ],
     "prompt_number": 21
    },
    {
     "cell_type": "code",
     "collapsed": false,
     "input": [
      "b.shape"
     ],
     "language": "python",
     "metadata": {},
     "outputs": [
      {
       "metadata": {},
       "output_type": "pyout",
       "prompt_number": 91,
       "text": [
        "(200,)"
       ]
      }
     ],
     "prompt_number": 91
    },
    {
     "cell_type": "code",
     "collapsed": false,
     "input": [
      "n"
     ],
     "language": "python",
     "metadata": {},
     "outputs": [
      {
       "metadata": {},
       "output_type": "pyout",
       "prompt_number": 96,
       "text": [
        "15"
       ]
      }
     ],
     "prompt_number": 96
    },
    {
     "cell_type": "code",
     "collapsed": false,
     "input": [
      "5*math.log(1000)"
     ],
     "language": "python",
     "metadata": {},
     "outputs": [
      {
       "metadata": {},
       "output_type": "pyout",
       "prompt_number": 118,
       "text": [
        "34.538776394910684"
       ]
      }
     ],
     "prompt_number": 118
    },
    {
     "cell_type": "code",
     "collapsed": false,
     "input": [
      "math.sqrt(1000)"
     ],
     "language": "python",
     "metadata": {},
     "outputs": [
      {
       "metadata": {},
       "output_type": "pyout",
       "prompt_number": 119,
       "text": [
        "31.622776601683793"
       ]
      }
     ],
     "prompt_number": 119
    },
    {
     "cell_type": "code",
     "collapsed": false,
     "input": [
      "np.sign(10)"
     ],
     "language": "python",
     "metadata": {},
     "outputs": [
      {
       "metadata": {},
       "output_type": "pyout",
       "prompt_number": 120,
       "text": [
        "1"
       ]
      }
     ],
     "prompt_number": 120
    },
    {
     "cell_type": "code",
     "collapsed": false,
     "input": [
      "n = 1000\n",
      "nnz = 5*int(math.ceil(math.log(n)))\n",
      "m = int(nnz*math.log(n))"
     ],
     "language": "python",
     "metadata": {},
     "outputs": [],
     "prompt_number": 137
    },
    {
     "cell_type": "code",
     "collapsed": false,
     "input": [
      "A.nbytes"
     ],
     "language": "python",
     "metadata": {},
     "outputs": [
      {
       "metadata": {},
       "output_type": "pyout",
       "prompt_number": 11,
       "text": [
        "36880000"
       ]
      }
     ],
     "prompt_number": 11
    },
    {
     "cell_type": "code",
     "collapsed": false,
     "input": [
      "a = p.get_problem_data(cp.ECOS)"
     ],
     "language": "python",
     "metadata": {},
     "outputs": [],
     "prompt_number": 24
    },
    {
     "cell_type": "code",
     "collapsed": false,
     "input": [
      "spy(a[1])"
     ],
     "language": "python",
     "metadata": {},
     "outputs": [
      {
       "metadata": {},
       "output_type": "pyout",
       "prompt_number": 25,
       "text": [
        "<matplotlib.lines.Line2D at 0x10bf59950>"
       ]
      },
      {
       "metadata": {},
       "output_type": "display_data",
       "png": "[encoded data removed]",
       "text": [
        "<matplotlib.figure.Figure at 0x10bda5f10>"
       ]
      }
     ],
     "prompt_number": 25
    },
    {
     "cell_type": "code",
     "collapsed": false,
     "input": [
      "a[1].shape"
     ],
     "language": "python",
     "metadata": {},
     "outputs": [
      {
       "metadata": {},
       "output_type": "pyout",
       "prompt_number": 26,
       "text": [
        "(67, 22)"
       ]
      }
     ],
     "prompt_number": 26
    },
    {
     "cell_type": "code",
     "collapsed": false,
     "input": [
      "A.shape"
     ],
     "language": "python",
     "metadata": {},
     "outputs": [
      {
       "metadata": {},
       "output_type": "pyout",
       "prompt_number": 22,
       "text": [
        "(242, 1000)"
       ]
      }
     ],
     "prompt_number": 22
    },
    {
     "cell_type": "markdown",
     "metadata": {},
     "source": [
      "# huge, sparse example"
     ]
    },
    {
     "cell_type": "code",
     "collapsed": false,
     "input": [],
     "language": "python",
     "metadata": {},
     "outputs": []
    }
   ],
   "metadata": {}
  }
 ]
}