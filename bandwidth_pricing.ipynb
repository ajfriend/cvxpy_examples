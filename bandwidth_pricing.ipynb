{
 "cells": [
  {
   "cell_type": "markdown",
   "metadata": {},
   "source": [
    "A communication network is modeled as a directed graph with $m$ nodes, $n$ edges, and an edge incidence matrix\n",
    "$A \\in \\mathbf{R}^{m \\times n}$, with $A_{ij} = +1$ if edge $j$ enters node $i$, $-1$ if it exits node $i$, and 0 otherwise.\n",
    "Edges have latency $l \\in \\mathbf{R}^n_{+}$ and bandwidth $B \\in \\mathbf{R}^n_+$.\n",
    "\n",
    "The network is shared by $r$ agents. Agent $i$ wants to transmit as much bandwidth as possible between source and sink nodes $s_i$ and $t_i$. To do this, agents send flows $F \\in \\mathbf{R}^{n \\times r}_+$ along the edges.\n",
    "\n",
    "Let $f_i \\in \\mathbf{R}^n_+$ (corresponding to the $i$th column of $F$) be the flow of agent $i$. Flows must obey the conservation equations $A f_i = u_i(e_{t_i} - e_{s_i})$,\n",
    "where $e_i \\in \\mathbf{R}^m$ is the standard basis vector whose $i$th element is $1$. The total bandwidth (throughput) sent into the sink node $t_i$ by agent $i$ is $u_i$.\n",
    "\n",
    "As the network is shared, the flow from each agent over a single edge cannot exceed that edge's maximum bandwidth: $\\sum f_i \\leq B$.\n",
    "\n",
    "The *average latency* of flow $f_i$ is given by $(l^T f_i)/u_i$.\n",
    "Agent $i$ will tolerate a maximum average latency $L_i$, resulting in the constraint $l^T f_i \\leq u_i L_i$.\n",
    "If the network is such that no flow exists with average latency at most $L_i$, the flow just doesn't happen: $u_i = 0$ and $f_i = 0$.\n",
    "\n",
    "In order to allocate bandwidth to the agents in a way that accounts for their competing interests in limited resources, we formulate a market equilibrium problem.\n",
    "Our goal will be to find prices $p \\in \\mathbf{R}^n_+$ for the bandwidth so that the market is at equilibrium. That is, agents purchasing bandwidth at prices $p$ to maximize their throughput $u$ won't overload any edge in the network with more bandwidth than it can handle.\n",
    "\n",
    "Agent $i$ is given some amount of cash $w_i$ with which to purchase bandwidth $f_i$. Acting optimally, an agent will use all of the bandwidth she purchases, so we can equate the flow and bandwidth.\n",
    "The cost the agent must pay is given by $p^T f_i$, so she is constrained by $p^T f_i \\leq w_i$.\n",
    "\n",
    "As stated, we have a Fisher equilibrium problem. Agent $i$'s utility function over $f_i \\geq 0$ is given by\n",
    "\n",
    "\\begin{array}{lll}\n",
    "  U_i(f_i) = &\\mbox{maximize} & u_i \\\\\n",
    "  &\\mbox{subject to} & A f_i = u_i(e_{t_i} - e_{s_i})\\\\\n",
    "  && l^T f_i \\leq u_i L_i.\n",
    "\\end{array}\n",
    "\n",
    "Note that $U_i$ is concave, increasing, and homogeneous of degree 1, which is what we need for the Fisher framework.\n",
    "\n",
    "Given prices $p$, agent $i$ will solve the optimizaiton problem\n",
    "\n",
    "\\begin{array}{ll}\n",
    "  \\mbox{maximize} & U_i(f_i) \\\\\n",
    "  \\mbox{subject to} & p^T f_i \\leq w_i \\\\\n",
    "  & f_i \\geq 0.\n",
    "\\end{array}\n",
    "\n",
    "To find bandwidth allocations (and prices) which solve each agent's optimization problem and respect the total bandwidth constraints, we formulate and solve the Fisher equilibrium problem\n",
    "\n",
    "\\begin{array}{ll}\n",
    "  \\mbox{maximize} & \\sum_i w_i\\log U_i(f_i) \\\\\n",
    "  \\mbox{subject to} & \\sum_i f_i \\leq B\\\\\n",
    "  & f_i \\geq 0,\n",
    "\\end{array}\n",
    "\n",
    "which we can rewrite as\n",
    "\n",
    "\\begin{array}{ll}\n",
    "  \\mbox{maximize} & \\sum_i w_i\\log u_i \\\\\n",
    "  \\mbox{subject to} & A f_i = u_i(e_{t_i} - e_{s_i})\\\\\n",
    "  & l^T f_i \\leq u_i L_i\\\\\n",
    "  & \\sum_i f_i \\leq B \\\\\n",
    "  & f_i \\geq 0.\n",
    "\\end{array}"
   ]
  },
  {
   "cell_type": "code",
   "execution_count": 2,
   "metadata": {
    "collapsed": true
   },
   "outputs": [],
   "source": [
    "import networkx as nx\n",
    "import numpy as np\n",
    "%matplotlib inline\n",
    "\n",
    "import toolz.itertoolz as it\n",
    "\n",
    "def rand_pairs(n):\n",
    "    while True:\n",
    "        a = np.random.randint(n)\n",
    "        b = np.random.randint(n)\n",
    "        if a != b:\n",
    "            yield a, b"
   ]
  },
  {
   "cell_type": "code",
   "execution_count": 23,
   "metadata": {
    "collapsed": false
   },
   "outputs": [],
   "source": [
    "k = 3\n",
    "G = nx.grid_2d_graph(k,k)\n",
    "G = G.to_directed()\n",
    "\n",
    "A = nx.incidence_matrix(G, oriented=True).todense()\n",
    "n,m = A.shape #n nodes, m edges\n",
    "\n",
    "r = np.random.rand(m)+1 ## time it takes to cross edge\n",
    "C = np.random.rand(m)+1 ## edge bandwidth capacity"
   ]
  },
  {
   "cell_type": "code",
   "execution_count": 24,
   "metadata": {
    "collapsed": false
   },
   "outputs": [
    {
     "data": {
      "image/png": "[encoded data removed]",
      "text/plain": [
       "<matplotlib.figure.Figure at 0x10f363150>"
      ]
     },
     "metadata": {},
     "output_type": "display_data"
    }
   ],
   "source": [
    "nx.draw_graphviz(G)"
   ]
  },
  {
   "cell_type": "code",
   "execution_count": 35,
   "metadata": {
    "collapsed": false
   },
   "outputs": [],
   "source": [
    "l = 4 #agents\n",
    "a = np.random.randint(n,size=l)\n",
    "\n",
    "a, b = map(np.array,zip(*it.take(l, rand_pairs(n))))\n",
    "T = np.random.rand(l)+3\n",
    "w = np.random.rand(l)+1\n",
    "\n",
    "B = np.zeros((n,l))\n",
    "B[b,range(l)] = 1\n",
    "B[a,range(l)] = -1"
   ]
  },
  {
   "cell_type": "code",
   "execution_count": 36,
   "metadata": {
    "collapsed": false
   },
   "outputs": [
    {
     "data": {
      "text/plain": [
       "array([ 1.75740055,  1.46451073,  1.23872564,  1.79793189,  1.39088259,\n",
       "        1.06393559,  1.8068478 ,  1.61624449,  1.12195287,  1.4741859 ,\n",
       "        1.70784282,  1.13567165,  1.26952778,  1.0272171 ,  1.75244179,\n",
       "        1.59336234,  1.75426078,  1.54087719,  1.81491177,  1.00375345,\n",
       "        1.59254347,  1.87649305,  1.5086031 ,  1.89645019])"
      ]
     },
     "execution_count": 36,
     "metadata": {},
     "output_type": "execute_result"
    }
   ],
   "source": [
    "r"
   ]
  },
  {
   "cell_type": "code",
   "execution_count": null,
   "metadata": {
    "collapsed": false
   },
   "outputs": [],
   "source": []
  },
  {
   "cell_type": "code",
   "execution_count": 37,
   "metadata": {
    "collapsed": false
   },
   "outputs": [
    {
     "data": {
      "text/plain": [
       "matrix([[-1., -1., -1.,  0.,  0.,  0.,  1.,  0.,  0.,  0.,  0.,  0.,  1.,\n",
       "          0.,  0.,  0.,  0.,  0.,  0.,  0.,  1.,  0.,  0.,  0.],\n",
       "        [ 0.,  0.,  0., -1., -1., -1.,  0.,  0.,  0.,  0.,  0.,  1.,  0.,\n",
       "          0.,  0.,  1.,  0.,  0.,  0.,  0.,  0.,  1.,  0.,  0.],\n",
       "        [ 1.,  0.,  0.,  0.,  0.,  0., -1., -1.,  0.,  0.,  0.,  0.,  0.,\n",
       "          0.,  0.,  0.,  0.,  0.,  1.,  0.,  0.,  0.,  0.,  0.],\n",
       "        [ 0.,  0.,  0.,  0.,  0.,  0.,  0.,  0., -1., -1., -1.,  0.,  0.,\n",
       "          0.,  1.,  0.,  1.,  0.,  0.,  0.,  0.,  0.,  0.,  1.],\n",
       "        [ 0.,  0.,  1.,  0.,  0.,  1.,  0.,  0.,  0.,  0.,  0., -1., -1.,\n",
       "          0.,  0.,  0.,  0.,  0.,  0.,  0.,  0.,  0.,  0.,  0.],\n",
       "        [ 0.,  0.,  0.,  0.,  0.,  0.,  0.,  0.,  1.,  0.,  0.,  0.,  0.,\n",
       "         -1., -1.,  0.,  0.,  1.,  0.,  0.,  0.,  0.,  0.,  0.],\n",
       "        [ 0.,  0.,  0.,  1.,  0.,  0.,  0.,  0.,  0.,  0.,  1.,  0.,  0.,\n",
       "          0.,  0., -1., -1.,  0.,  0.,  0.,  0.,  0.,  0.,  0.],\n",
       "        [ 0.,  0.,  0.,  0.,  0.,  0.,  0.,  1.,  0.,  0.,  0.,  0.,  0.,\n",
       "          1.,  0.,  0.,  0., -1., -1., -1.,  0.,  0.,  1.,  0.],\n",
       "        [ 0.,  1.,  0.,  0.,  1.,  0.,  0.,  0.,  0.,  1.,  0.,  0.,  0.,\n",
       "          0.,  0.,  0.,  0.,  0.,  0.,  1., -1., -1., -1., -1.]])"
      ]
     },
     "execution_count": 37,
     "metadata": {},
     "output_type": "execute_result"
    }
   ],
   "source": [
    "A"
   ]
  },
  {
   "cell_type": "code",
   "execution_count": 41,
   "metadata": {
    "collapsed": true
   },
   "outputs": [],
   "source": [
    "Told = T\n",
    "T = T + 20"
   ]
  },
  {
   "cell_type": "code",
   "execution_count": 42,
   "metadata": {
    "collapsed": false
   },
   "outputs": [],
   "source": [
    "import cvxpy as cvx\n",
    "F = cvx.Variable(m,l)\n",
    "t = cvx.Variable(l)\n",
    "\n",
    "constr = [A*F == B*cvx.diag(t),\n",
    "F >= 0,\n",
    "sum(F[:,i] for i in range(l)) <= C,\n",
    "F.T*r <= cvx.mul_elemwise(T,t)]\n",
    "\n",
    "obj = cvx.Maximize(cvx.log(t).T*w)\n",
    "\n",
    "p = cvx.Problem(obj, constr)"
   ]
  },
  {
   "cell_type": "code",
   "execution_count": 43,
   "metadata": {
    "collapsed": false
   },
   "outputs": [
    {
     "name": "stdout",
     "output_type": "stream",
     "text": [
      "----------------------------------------------------------------------------\n",
      "\tSCS v1.0.7 - Splitting Conic Solver\n",
      "\t(c) Brendan O'Donoghue, Stanford University, 2012\n",
      "----------------------------------------------------------------------------\n",
      "Lin-sys: sparse-direct, nnz in A = 500\n",
      "eps = 1.00e-05, alpha = 1.50, max_iters = 100000, normalize = 1, scale = 5.00\n",
      "Variables n = 104, constraints m = 172\n",
      "Cones:\tprimal zero / dual free vars: 36\n",
      "\tlinear vars: 124\n",
      "\texp vars: 12, dual exp vars: 0\n",
      "Setup time: 1.69e-03s\n",
      "----------------------------------------------------------------------------\n",
      " Iter | pri res | dua res | rel gap | pri obj | dua obj | kap/tau | time (s)\n",
      "----------------------------------------------------------------------------\n",
      "     0|      inf       inf       nan      -inf       inf       inf  1.49e-03 \n",
      "   100| 1.23e-03  4.89e-03  6.46e-04 -2.48e+00 -2.49e+00  2.11e-16  1.04e-02 \n",
      "   200| 6.55e-05  1.38e-04  9.81e-06 -2.49e+00 -2.49e+00  2.11e-16  2.61e-02 \n",
      "   300| 3.52e-06  3.97e-06  7.81e-07 -2.49e+00 -2.49e+00  2.11e-16  6.09e-02 \n",
      "----------------------------------------------------------------------------\n",
      "Status: Solved\n",
      "Timing: Total solve time: 6.09e-02s\n",
      "\tLin-sys: nnz in L factor: 1532, avg solve time: 9.11e-06s\n",
      "\tCones: avg projection time: 1.79e-04s\n",
      "----------------------------------------------------------------------------\n",
      "Error metrics:\n",
      "|Ax + s - b|_2 / (1 + |b|_2) = 3.5213e-06\n",
      "|A'y + c|_2 / (1 + |c|_2) = 3.9704e-06\n",
      "|c'x + b'y| / (1 + |c'x| + |b'y|) = 7.8142e-07\n",
      "dist(s, K) = 0, dist(y, K*) = 0, s'y = 0\n",
      "----------------------------------------------------------------------------\n",
      "c'x = -2.4861, -b'y = -2.4861\n",
      "============================================================================\n",
      "optimal 2.48609176153\n"
     ]
    }
   ],
   "source": [
    "p.solve(verbose=True, solver='SCS', max_iters=100000, eps=1e-5)\n",
    "print p.status, p.value"
   ]
  },
  {
   "cell_type": "code",
   "execution_count": 210,
   "metadata": {
    "collapsed": false
   },
   "outputs": [
    {
     "name": "stdout",
     "output_type": "stream",
     "text": [
      "optimal_inaccurate -29.6928756614\n"
     ]
    }
   ],
   "source": []
  },
  {
   "cell_type": "code",
   "execution_count": 21,
   "metadata": {
    "collapsed": false
   },
   "outputs": [
    {
     "data": {
      "text/plain": [
       "matrix([[ 1.80229199],\n",
       "        [ 1.81134185],\n",
       "        [ 1.68583445],\n",
       "        [ 3.19058458]])"
      ]
     },
     "execution_count": 21,
     "metadata": {},
     "output_type": "execute_result"
    }
   ],
   "source": [
    "t.value"
   ]
  },
  {
   "cell_type": "code",
   "execution_count": 44,
   "metadata": {
    "collapsed": false
   },
   "outputs": [
    {
     "data": {
      "text/plain": [
       "matrix([[  2.88536661e-02],\n",
       "        [  9.36593509e-02],\n",
       "        [  1.03513778e+00],\n",
       "        [ -5.20117978e-07],\n",
       "        [ -6.42484769e-07],\n",
       "        [  2.84016620e-01],\n",
       "        [  1.15765163e+00],\n",
       "        [  1.90362466e-01],\n",
       "        [  1.67540227e-01],\n",
       "        [  2.36699708e-01],\n",
       "        [  1.75023868e-01],\n",
       "        [ -1.62790827e-06],\n",
       "        [  5.77804696e-07],\n",
       "        [  1.19733255e-01],\n",
       "        [  2.66488698e-01],\n",
       "        [  1.30923404e-01],\n",
       "        [  4.41000583e-02],\n",
       "        [  2.18683230e-01],\n",
       "        [  6.43043415e-07],\n",
       "        [  1.37574899e-01],\n",
       "        [ -5.85625174e-08],\n",
       "        [  1.53089729e-01],\n",
       "        [  4.61658635e-02],\n",
       "        [  2.68676255e-01]])"
      ]
     },
     "execution_count": 44,
     "metadata": {},
     "output_type": "execute_result"
    }
   ],
   "source": [
    "F.value[:,0]"
   ]
  },
  {
   "cell_type": "code",
   "execution_count": 12,
   "metadata": {
    "collapsed": false
   },
   "outputs": [],
   "source": [
    "F.value[F.value < 1e-5] = 0"
   ]
  },
  {
   "cell_type": "code",
   "execution_count": 38,
   "metadata": {
    "collapsed": false
   },
   "outputs": [
    {
     "data": {
      "text/plain": [
       "[<matplotlib.lines.Line2D at 0x110ad4fd0>]"
      ]
     },
     "execution_count": 38,
     "metadata": {},
     "output_type": "execute_result"
    },
    {
     "data": {
      "image/png": "[encoded data removed]",
      "text/plain": [
       "<matplotlib.figure.Figure at 0x110b5cd90>"
      ]
     },
     "metadata": {},
     "output_type": "display_data"
    }
   ],
   "source": [
    "import matplotlib.pyplot as plt\n",
    "plt.plot(F.value[:,3])"
   ]
  },
  {
   "cell_type": "code",
   "execution_count": 41,
   "metadata": {
    "collapsed": false
   },
   "outputs": [
    {
     "data": {
      "text/plain": [
       "(matrix([[ 0.08717658],\n",
       "         [ 0.01458149],\n",
       "         [ 0.49941013],\n",
       "         [ 1.68751991],\n",
       "         [ 0.28410896],\n",
       "         [ 1.19176593],\n",
       "         [ 1.5511281 ],\n",
       "         [ 0.04128119],\n",
       "         [ 0.        ],\n",
       "         [ 1.35377948],\n",
       "         [ 1.32969694],\n",
       "         [ 0.2708283 ],\n",
       "         [ 0.15212218],\n",
       "         [ 1.30208849],\n",
       "         [ 1.55809321],\n",
       "         [ 1.53276266],\n",
       "         [ 0.        ],\n",
       "         [ 0.        ],\n",
       "         [ 1.5052327 ],\n",
       "         [ 1.28417144],\n",
       "         [ 1.95680235],\n",
       "         [ 1.35980384],\n",
       "         [ 1.44603447],\n",
       "         [ 1.1253832 ]]),\n",
       " array([ 1.36156181,  1.89236951,  1.0388589 ,  1.89423057,  1.47317537,\n",
       "         1.19176593,  1.8904404 ,  1.50781248,  1.19120331,  1.35377949,\n",
       "         1.32969694,  1.72413452,  1.81665947,  1.30208849,  1.55809321,\n",
       "         1.69798238,  1.74219331,  1.95978256,  1.57715317,  1.29699905,\n",
       "         1.95680235,  1.35980384,  1.44603447,  1.44900113]))"
      ]
     },
     "execution_count": 41,
     "metadata": {},
     "output_type": "execute_result"
    }
   ],
   "source": [
    "sum(F.value[:,i] for i in range(l)), C"
   ]
  },
  {
   "cell_type": "code",
   "execution_count": null,
   "metadata": {
    "collapsed": true
   },
   "outputs": [],
   "source": []
  }
 ],
 "metadata": {
  "kernelspec": {
   "display_name": "Python 2",
   "language": "python",
   "name": "python2"
  },
  "language_info": {
   "codemirror_mode": {
    "name": "ipython",
    "version": 2
   },
   "file_extension": ".py",
   "mimetype": "text/x-python",
   "name": "python",
   "nbconvert_exporter": "python",
   "pygments_lexer": "ipython2",
   "version": "2.7.9"
  }
 },
 "nbformat": 4,
 "nbformat_minor": 0
}
