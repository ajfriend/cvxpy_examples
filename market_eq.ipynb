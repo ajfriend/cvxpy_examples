{
 "metadata": {
  "name": "",
  "signature": "sha256:be57c0cb627152b91a62c7d79cb88b0fd0758a75d338734018e729d31c7b8065"
 },
 "nbformat": 3,
 "nbformat_minor": 0,
 "worksheets": [
  {
   "cells": [
    {
     "cell_type": "markdown",
     "metadata": {},
     "source": [
      "# TODO\n",
      "- exploit sparsity in A and B\n",
      "- don't need to form all of $x_{ij}$, all constraints, or all terms in sum on right hand side\n",
      "- if $a_{ij} = 0$, then don't need variable $x_{ij}$ \n",
      "- if $a_{ij} = 0$, then don't need a constraint\n",
      "- if $b_{ij} = 0$, then don't need term in sum\n",
      "- if some of these things are zero, will cvxpy remove those constraints/terms automatically?\n",
      "- iterative refinement for sols with SCS?\n",
      "\n",
      "- split by agent\n",
      "- split by good\n",
      "- proximal point/bundle method on expected wanted goods and active constraints\n",
      "- related to column generation?\n",
      "- dual of the problem gives a natural distributed algorithm?\n",
      "\n",
      "- got runtimes on square systems, but also get runtimes on fat and skinny systems\n",
      "- how do the variables and constraints (in SCS) scale with the problem size?\n",
      "- i wonder if runtime depends on density? fewer options make the problem easier to solve?\n",
      "- have a function to evaluate quality of prices/allocation solution. maybe use a rounding method. send things to zero..\n",
      "- compare direct and indirect SCS solvers\n",
      "- make a instance matrix and try a bunch of sizes, shapes, densities, methods, and record solve times and parse times on kona64\n",
      "- iterative refinement on allocation?\n",
      "- pairwise effects? something like a min in the utility function?\n",
      "- is it true that some of these functions are not cone-representable? (at least by using socp, sdp, exp, or pwrcone)\n",
      "\n",
      "# Arrow-Debreu Market Equilibrium\n",
      "\n",
      "We have a market with $m$ agents and $n$ goods.\n",
      "\n",
      "Agent $i$ initially has amount $b_{ij}$ of good $j$.\n",
      "Agent $i$ achieves utility $a_{ij} x_{ij}$ when he is allocated amount $x_{ij}$ of good $j$. Thus agent $i$\u2019s total utility is $\\sum_j a_{ij} x_{ij}$ when he is allocated $(x_{i1},...,x_{in})$.\n",
      "A market equilibrium is a set of allocations of goods to agents $x_{ij}$ together with a set of good prices $p \\in \\mathbf{R}^n$ such that at equilibrium\n",
      "- all goods are sold at the equilibrium price.\n",
      "- each agent maximizes his total utility.\n",
      "\n",
      "\n",
      "It can be shown that a market equilibrium always exists and can be found by solving the\n",
      "following problem:\n",
      "\n",
      "\\begin{array}{ll}\n",
      "\\mbox{find} & x, p \\\\\n",
      "\\mbox{subject to} & \\sum_k a_{ik} x_{ik} \\geq a_{ij} \\sum_k b_{ik} \\frac{p_k}{p_j}, \\forall i,j\\\\\n",
      "& \\sum_i x_{ij} = \\sum_i b_{ij}, \\forall j\\\\\n",
      "& x_{ij} \\geq 0, p_j \\geq 0\n",
      "\\end{array}\n",
      "\n",
      "\n",
      "The above problem is not a convex optimization problem but can be easily transformed to one by a simple change of variables. Specifically let $p_j = \\exp(\\phi_j)$.\n",
      "Then the problem becomes\n",
      "\n",
      "\\begin{array}{ll}\n",
      "\\mbox{find} & x, \\phi \\\\\n",
      "\\mbox{subject to} & \\sum_k a_{ik} x_{ik} \\geq a_{ij} \\sum_k b_{ik} e^{\\phi_k - \\phi_j}, \\forall i,j\\\\\n",
      "& \\sum_i x_{ij} = \\sum_i b_{ij}, \\forall j\\\\\n",
      "& x_{ij} \\geq 0\n",
      "\\end{array}\n",
      "\n",
      "This is a convex feasibility problem and can be solved in a variety of ways. In fact this is a mixed linear-GP."
     ]
    },
    {
     "cell_type": "markdown",
     "metadata": {},
     "source": [
      "# Dense formulation"
     ]
    },
    {
     "cell_type": "code",
     "collapsed": false,
     "input": [
      "import cvxpy as cvx\n",
      "import numpy as np\n",
      "import matplotlib.pyplot as plt\n",
      "from collections import defaultdict\n",
      "\n",
      "np.random.seed(2)\n",
      "m = 15\n",
      "n = 16\n",
      "A = np.random.randn(m,n)**2\n",
      "B = np.random.rand(m,n)\n",
      "\n",
      "def residual(x,phi,A,B):\n",
      "    '''Return 3 residuals corresponding to market constraints\n",
      "    Agent residual, x>=0, good conservation\n",
      "    '''\n",
      "    m, n = x.shape\n",
      "    \n",
      "    p = np.exp(phi)\n",
      "    Ax = np.sum(A*x,axis=1)\n",
      "    \n",
      "    Bp = np.sum(B*p,axis=1)\n",
      "    Ap = A/np.exp(phi[np.newaxis,:])\n",
      "    allin = np.max(Ap*Bp[:,np.newaxis],axis=1)\n",
      "    \n",
      "    return np.max(allin - Ax), max(-np.min(x),0), np.linalg.norm(np.sum(x-B,axis=0),ord=1)\n",
      "\n",
      "def polish(x,B):\n",
      "    y = np.maximum(x,0)\n",
      "    y *= B.sum(axis=0)/y.sum(axis=0)\n",
      "    return y"
     ],
     "language": "python",
     "metadata": {},
     "outputs": [],
     "prompt_number": 1
    },
    {
     "cell_type": "code",
     "collapsed": false,
     "input": [
      "%%time\n",
      "x = cvx.Variable(m,n)\n",
      "phi = cvx.Variable(n)\n",
      "\n",
      "constr = [x >= 0, sum(x[i,:] for i in range(m)).T == B.sum(axis=0), cvx.sum_entries(phi) == 0]\n",
      "\n",
      "for i in range(m):\n",
      "    for j in range(n):\n",
      "        constr += [x[i,:]*A[i,:] >= A[i,j]*sum(B[i,k]*cvx.exp(phi[k]-phi[j]) for k in range(n)) ]\n",
      "\n",
      "prob = cvx.Problem(cvx.Minimize(0),constr)\n",
      "result = prob.solve(solver=cvx.SCS, verbose=True)\n",
      "\n",
      "x = np.array(x.value)\n",
      "phi = np.array(phi.value).flatten()\n",
      "y = polish(x,B)"
     ],
     "language": "python",
     "metadata": {},
     "outputs": [
      {
       "output_type": "stream",
       "stream": "stdout",
       "text": [
        "----------------------------------------------------------------------------\n",
        "\tscs v1.0 - Splitting Conic Solver\n",
        "\t(c) Brendan O'Donoghue, Stanford University, 2012\n",
        "----------------------------------------------------------------------------\n",
        "Method: sparse-direct, nnz in A = 19456\n",
        "EPS = 1.00e-03, ALPHA = 1.80, MAX_ITERS = 2500, NORMALIZE = 1, SCALE = 5.00\n",
        "Variables n = 4096, constraints m = 12017\n",
        "Cones:\tprimal zero / dual free vars: 17\n",
        "\tlinear vars: 480\n",
        "\tsoc vars: 0, soc blks: 0\n",
        "\tsd vars: 0, sd blks: 0\n",
        "\texp vars: 11520, dual exp vars: 0\n",
        "----------------------------------------------------------------------------\n",
        " Iter | pri res | dua res | rel gap | pri obj | dua obj |  kappa  | time (s)\n",
        "============================================================================\n",
        "     0|"
       ]
      },
      {
       "output_type": "stream",
       "stream": "stdout",
       "text": [
        "      nan  1.59e+00       nan       nan       inf  1.01e+02  7.05e-02 \n",
        "   100|"
       ]
      },
      {
       "output_type": "stream",
       "stream": "stdout",
       "text": [
        " 1.79e-01  9.37e-03  1.04e-02  0.00e+00  1.05e-02  0.00e+00  1.21e+00 \n",
        "   200|"
       ]
      },
      {
       "output_type": "stream",
       "stream": "stdout",
       "text": [
        " 4.74e-02  5.65e-03  9.72e-04  0.00e+00 -9.73e-04  0.00e+00  1.85e+00 \n",
        "   300|"
       ]
      },
      {
       "output_type": "stream",
       "stream": "stdout",
       "text": [
        " 4.88e-02  1.45e-03  6.50e-04  0.00e+00  6.51e-04  8.53e-16  2.46e+00 \n",
        "   400|"
       ]
      },
      {
       "output_type": "stream",
       "stream": "stdout",
       "text": [
        " 2.65e-02  1.14e-03  5.64e-04  0.00e+00 -5.64e-04  0.00e+00  3.10e+00 \n",
        "   500|"
       ]
      },
      {
       "output_type": "stream",
       "stream": "stdout",
       "text": [
        " 7.04e-03  6.67e-04  2.98e-04  0.00e+00  2.98e-04  8.53e-16  3.70e+00 \n",
        "   600|"
       ]
      },
      {
       "output_type": "stream",
       "stream": "stdout",
       "text": [
        " 6.84e-03  1.36e-04  1.78e-05  0.00e+00 -1.78e-05  8.53e-16  4.34e+00 \n",
        "   700|"
       ]
      },
      {
       "output_type": "stream",
       "stream": "stdout",
       "text": [
        " 3.73e-03  1.49e-04  5.84e-05  0.00e+00 -5.84e-05  8.53e-16  4.97e+00 \n",
        "   800|"
       ]
      },
      {
       "output_type": "stream",
       "stream": "stdout",
       "text": [
        " 1.04e-03  9.82e-05  6.57e-06  0.00e+00  6.57e-06  0.00e+00  5.58e+00 \n",
        "   820|"
       ]
      },
      {
       "output_type": "stream",
       "stream": "stdout",
       "text": [
        " 9.71e-04  7.67e-05  7.64e-06  0.00e+00 -7.64e-06  1.71e-15  5.70e+00 \n",
        "----------------------------------------------------------------------------\n",
        "Status: Solved\n",
        "Timing: Solve time: 5.70e+00s, setup time: 1.17e-02s\n",
        "\tLin-sys: nnz in L factor: 54954, avg solve time: 3.14e-04s\n",
        "\tCones: avg projection time: 6.41e-03s\n",
        "----------------------------------------------------------------------------\n",
        "Error metrics:\n",
        "|Ax + s - b|_2 / (1 + |b|_2) = 9.7093e-04\n",
        "|A'y + c|_2 / (1 + |c|_2) = 7.6678e-05\n",
        "|c'x + b'y| / (1 + |c'x| + |b'y|) = 7.6359e-06\n",
        "dist(s, K) = 0, dist(y, K*) = 0, s'y = 0\n",
        "----------------------------------------------------------------------------\n",
        "c'x = 0.0000, -b'y = -0.0000\n",
        "============================================================================\n",
        "CPU times: user 38.7 s, sys: 188 ms, total: 38.8 s"
       ]
      },
      {
       "output_type": "stream",
       "stream": "stdout",
       "text": [
        "\n",
        "Wall time: 39.8 s\n"
       ]
      }
     ],
     "prompt_number": 7
    },
    {
     "cell_type": "code",
     "collapsed": false,
     "input": [
      "print residual(x,phi,A,B)\n",
      "print residual(y,phi,A,B)"
     ],
     "language": "python",
     "metadata": {},
     "outputs": [
      {
       "output_type": "stream",
       "stream": "stdout",
       "text": [
        "(0.048836230699208727, 0.00034091038900012837, 0.020839782965942119)\n",
        "(0.036345340478717958, -0.0, 1.2684298056342413e-14)\n"
       ]
      }
     ],
     "prompt_number": 8
    },
    {
     "cell_type": "code",
     "collapsed": false,
     "input": [
      "prices = np.exp(phi)\n",
      "prices"
     ],
     "language": "python",
     "metadata": {},
     "outputs": [
      {
       "metadata": {},
       "output_type": "pyout",
       "prompt_number": 9,
       "text": [
        "array([ 1.52389526,  0.95714723,  0.89879602,  0.92196281,  0.75753829,\n",
        "        0.54880337,  1.4122508 ,  0.48957854,  1.57722223,  0.81151708,\n",
        "        0.8969982 ,  1.03464151,  1.84777952,  1.13746157,  0.86487746,\n",
        "        1.33297662])"
       ]
      }
     ],
     "prompt_number": 9
    },
    {
     "cell_type": "markdown",
     "metadata": {},
     "source": [
      "# Sparse formulation\n",
      "\n",
      "It seems like CVXPY automatically exploits some of the sparsity, reducing the number of variables and constraints based on the zero entries in A and B."
     ]
    },
    {
     "cell_type": "code",
     "collapsed": false,
     "input": [
      "import scipy.sparse as sp\n",
      "\n",
      "np.random.seed(17)\n",
      "m = 20\n",
      "n = 21\n",
      "\n",
      "A = sp.rand(m, 1.2*n, density=0.3).toarray()\n",
      "B = sp.rand(m, 1.2*n, density=0.3).toarray()\n",
      "\n",
      "A = A[:,0:n]\n",
      "B = B[:,0:n]\n",
      "\n",
      "fig = plt.figure(figsize=(9,9))\n",
      "ax1 = plt.subplot(121)\n",
      "ax2 = plt.subplot(122)\n",
      "ax1.matshow(A)\n",
      "ax2.matshow(B)\n",
      "\n",
      "def checkMat(A):\n",
      "    return np.all((A > 0).sum(axis=0) > 0) and np.all((A > 0).sum(axis=1) > 0)\n",
      "\n",
      "print checkMat(A)\n",
      "print checkMat(B)"
     ],
     "language": "python",
     "metadata": {},
     "outputs": [
      {
       "output_type": "stream",
       "stream": "stdout",
       "text": [
        "True\n",
        "True\n"
       ]
      },
      {
       "metadata": {},
       "output_type": "display_data",
       "png": "[encoded data removed]",
       "text": [
        "<matplotlib.figure.Figure at 0x10a0d6b50>"
       ]
      }
     ],
     "prompt_number": 4
    },
    {
     "cell_type": "code",
     "collapsed": false,
     "input": [
      "%%time\n",
      "x = cvx.Variable(m,n)\n",
      "phi = cvx.Variable(n)\n",
      "\n",
      "lhs = cvx.mul_elemwise(A,x)\n",
      "lhs = sum(lhs[:,i] for i in range(n))\n",
      "\n",
      "constr = [x >= 0, sum(x[i,:] for i in range(m)).T == B.sum(axis=0) ]\n",
      "\n",
      "constr += [x[i,:]*A[i,:] >= A[i,j]*sum(B[i,k]*cvx.exp(phi[k]-phi[j]) for k in range(n)) for i in range(m) for j in range(n)]\n",
      "\n",
      "prob = cvx.Problem(cvx.Minimize(0),constr)\n",
      "result = prob.solve(solver=cvx.SCS, verbose=True)\n",
      "\n",
      "x = np.array(x.value)\n",
      "phi = np.array(phi.value).flatten()\n",
      "y = polish(x,B)"
     ],
     "language": "python",
     "metadata": {},
     "outputs": [
      {
       "output_type": "stream",
       "stream": "stdout",
       "text": [
        "----------------------------------------------------------------------------\n",
        "\tscs v1.0 - Splitting Conic Solver\n",
        "\t(c) Brendan O'Donoghue, Stanford University, 2012\n",
        "----------------------------------------------------------------------------\n",
        "Method: sparse-direct, nnz in A = 7313\n",
        "EPS = 1.00e-03, ALPHA = 1.80, MAX_ITERS = 2500, NORMALIZE = 1, SCALE = 5.00\n",
        "Variables n = 1352, constraints m = 3594\n",
        "Cones:\tprimal zero / dual free vars: 21\n",
        "\tlinear vars: 840\n",
        "\tsoc vars: 0, soc blks: 0\n",
        "\tsd vars: 0, sd blks: 0\n",
        "\texp vars: 2733, dual exp vars: 0\n",
        "----------------------------------------------------------------------------\n",
        " Iter | pri res | dua res | rel gap | pri obj | dua obj |  kappa  | time (s)\n",
        "============================================================================\n",
        "     0|      nan  3.03e+00       nan       nan       inf  2.20e+01  2.34e-02 \n",
        "   100|"
       ]
      },
      {
       "output_type": "stream",
       "stream": "stdout",
       "text": [
        " 1.42e-02  2.33e-03  1.83e-03  0.00e+00  1.83e-03  0.00e+00  4.63e-01 \n",
        "   200|"
       ]
      },
      {
       "output_type": "stream",
       "stream": "stdout",
       "text": [
        " 5.71e-03  7.90e-04  1.98e-04  0.00e+00 -1.98e-04  0.00e+00  8.59e-01 \n",
        "   300|"
       ]
      },
      {
       "output_type": "stream",
       "stream": "stdout",
       "text": [
        " 2.60e-03  3.86e-04  4.10e-04  0.00e+00  4.10e-04  0.00e+00  1.29e+00 \n",
        "   400|"
       ]
      },
      {
       "output_type": "stream",
       "stream": "stdout",
       "text": [
        " 1.49e-03  2.60e-04  1.38e-04  0.00e+00 -1.38e-04  0.00e+00  1.68e+00 \n",
        "   480|"
       ]
      },
      {
       "output_type": "stream",
       "stream": "stdout",
       "text": [
        " 7.24e-04  1.27e-04  7.97e-06  0.00e+00  7.97e-06  0.00e+00  2.00e+00 \n",
        "----------------------------------------------------------------------------\n",
        "Status: Solved\n",
        "Timing: Solve time: 2.00e+00s, setup time: 3.87e-03s\n",
        "\tLin-sys: nnz in L factor: 13614, avg solve time: 8.96e-05s\n",
        "\tCones: avg projection time: 3.98e-03s\n",
        "----------------------------------------------------------------------------\n",
        "Error metrics:\n",
        "|Ax + s - b|_2 / (1 + |b|_2) = 7.2404e-04\n",
        "|A'y + c|_2 / (1 + |c|_2) = 1.2747e-04\n",
        "|c'x + b'y| / (1 + |c'x| + |b'y|) = 7.9659e-06\n",
        "dist(s, K) = 0, dist(y, K*) = 0, s'y = 0\n",
        "----------------------------------------------------------------------------\n",
        "c'x = 0.0000, -b'y = 0.0000\n",
        "============================================================================\n",
        "CPU times: user 15.1 s, sys: 195 ms, total: 15.3 s"
       ]
      },
      {
       "output_type": "stream",
       "stream": "stdout",
       "text": [
        "\n",
        "Wall time: 16.5 s\n"
       ]
      }
     ],
     "prompt_number": 5
    },
    {
     "cell_type": "code",
     "collapsed": false,
     "input": [
      "fig = plt.figure(figsize=(9,9))\n",
      "ax1 = plt.subplot(121)\n",
      "ax2 = plt.subplot(122)\n",
      "ax1.matshow(A)\n",
      "ax2.matshow(x)\n",
      "\n",
      "print residual(x,phi,A,B)\n",
      "print residual(y,phi,A,B)"
     ],
     "language": "python",
     "metadata": {},
     "outputs": [
      {
       "output_type": "stream",
       "stream": "stdout",
       "text": [
        "(0.0070675263728292581, 0.00056275739044676096, 0.062811130791982028)\n",
        "(0.012883685132835332, -0.0, 1.1765494313401362e-14)\n"
       ]
      },
      {
       "metadata": {},
       "output_type": "display_data",
       "png": "[encoded data removed]",
       "text": [
        "<matplotlib.figure.Figure at 0x10ec9fcd0>"
       ]
      }
     ],
     "prompt_number": 7
    },
    {
     "cell_type": "markdown",
     "metadata": {},
     "source": [
      "# Next sparse formulation\n",
      "\n",
      "We'll try to hand-code some sparsity information to see if we get any improvement over what CVXPY already provides."
     ]
    },
    {
     "cell_type": "code",
     "collapsed": false,
     "input": [
      "%%time\n",
      "x = defaultdict(int)\n",
      "phi = cvx.Variable(n)\n",
      "for i in range(m):\n",
      "    for j in range(n):\n",
      "        if A[i,j] > 0:\n",
      "            x[(i,j)] = cvx.Variable()\n",
      "            \n",
      "constr = []\n",
      "Btot = B.sum(axis=0)\n",
      "for j in range(n):\n",
      "    constr += [sum(x[(i,j)] for i in range(m) if (i,j) in x) == Btot[j]]\n",
      "\n",
      "constr += [val >= 0 for val in x.values() ]\n",
      "    \n",
      "for i in range(m):\n",
      "    util = sum(x[(i,j)]*A[i,j] for j in range(n) if A[i,j] > 0 )\n",
      "    for j in range(n):\n",
      "        if A[i,j] > 0:\n",
      "            constr += [util >= A[i,j]*sum(B[i,k]*cvx.exp(phi[k]-phi[j]) for k in range(n) if B[i,k] > 0) ]\n",
      "\n",
      "prob = cvx.Problem(cvx.Minimize(0),constr)\n",
      "result = prob.solve(solver=cvx.SCS, verbose=True)"
     ],
     "language": "python",
     "metadata": {},
     "outputs": [
      {
       "output_type": "stream",
       "stream": "stdout",
       "text": [
        "----------------------------------------------------------------------------\n",
        "\tscs v1.0 - Splitting Conic Solver\n",
        "\t(c) Brendan O'Donoghue, Stanford University, 2012\n",
        "----------------------------------------------------------------------------\n",
        "Method: sparse-direct, nnz in A = 473077\n",
        "EPS = 1.00e-03, ALPHA = 1.80, MAX_ITERS = 2500, NORMALIZE = 1, SCALE = 5.00\n",
        "Variables n = 99295, constraints m = 286425\n",
        "Cones:\tprimal zero / dual free vars: 1000\n",
        "\tlinear vars: 18920\n",
        "\tsoc vars: 0, soc blks: 0\n",
        "\tsd vars: 0, sd blks: 0\n",
        "\texp vars: 266505, dual exp vars: 0\n",
        "----------------------------------------------------------------------------\n",
        " Iter | pri res | dua res | rel gap | pri obj | dua obj |  kappa  | time (s)\n",
        "============================================================================\n",
        "     0|"
       ]
      },
      {
       "output_type": "stream",
       "stream": "stdout",
       "text": [
        "      nan  3.75e+00       nan       nan       inf  1.98e+03  1.66e+00 \n",
        "   100|"
       ]
      },
      {
       "output_type": "stream",
       "stream": "stdout",
       "text": [
        " 5.25e-03  1.78e-03  1.47e-03  0.00e+00  1.48e-03  0.00e+00  4.00e+01 \n",
        "   200|"
       ]
      },
      {
       "output_type": "stream",
       "stream": "stdout",
       "text": [
        " 1.56e-03  4.75e-04  8.72e-05  0.00e+00  8.72e-05  0.00e+00  7.02e+01 \n",
        "   260|"
       ]
      },
      {
       "output_type": "stream",
       "stream": "stdout",
       "text": [
        " 8.67e-04  2.59e-04  1.07e-04  0.00e+00 -1.07e-04  0.00e+00  8.81e+01 \n",
        "----------------------------------------------------------------------------\n",
        "Status: Solved\n",
        "Timing: Solve time: 8.81e+01s, setup time: 1.05e+00s\n",
        "\tLin-sys: nnz in L factor: 1930878, avg solve time: 1.19e-02s\n",
        "\tCones: avg projection time: 3.18e-01s\n",
        "----------------------------------------------------------------------------\n",
        "Error metrics:\n",
        "|Ax + s - b|_2 / (1 + |b|_2) = 8.6747e-04\n",
        "|A'y + c|_2 / (1 + |c|_2) = 2.5919e-04\n",
        "|c'x + b'y| / (1 + |c'x| + |b'y|) = 1.0676e-04\n",
        "dist(s, K) = 0, dist(y, K*) = 0, s'y = 0\n",
        "----------------------------------------------------------------------------\n",
        "c'x = 0.0000, -b'y = -0.0001\n",
        "============================================================================\n",
        "CPU times: user 14min 31s, sys: 4.44 s, total: 14min 35s"
       ]
      },
      {
       "output_type": "stream",
       "stream": "stdout",
       "text": [
        "\n",
        "Wall time: 36min 10s\n"
       ]
      }
     ],
     "prompt_number": 44
    },
    {
     "cell_type": "code",
     "collapsed": false,
     "input": [
      "xsol = np.zeros((m,n))\n",
      "for k,v in x.iteritems():\n",
      "    xsol[k] = v.value\n",
      "\n",
      "fig = plt.figure(figsize=(9,9))\n",
      "ax1 = plt.subplot(121)\n",
      "ax2 = plt.subplot(122)\n",
      "ax1.matshow(A)\n",
      "ax2.matshow(xsol)"
     ],
     "language": "python",
     "metadata": {},
     "outputs": [
      {
       "metadata": {},
       "output_type": "pyout",
       "prompt_number": 45,
       "text": [
        "<matplotlib.image.AxesImage at 0x15e0e3b90>"
       ]
      },
      {
       "metadata": {},
       "output_type": "display_data",
       "png": "[encoded data removed]",
       "text": [
        "<matplotlib.figure.Figure at 0x1097f73d0>"
       ]
      }
     ],
     "prompt_number": 45
    },
    {
     "cell_type": "code",
     "collapsed": false,
     "input": [],
     "language": "python",
     "metadata": {},
     "outputs": [],
     "prompt_number": 103
    },
    {
     "cell_type": "code",
     "collapsed": false,
     "input": [
      "plt.matshow(np.abs(np.array(x.value - xsol)))"
     ],
     "language": "python",
     "metadata": {},
     "outputs": [
      {
       "metadata": {},
       "output_type": "pyout",
       "prompt_number": 91,
       "text": [
        "<matplotlib.image.AxesImage at 0x10ce64a50>"
       ]
      },
      {
       "metadata": {},
       "output_type": "display_data",
       "png": "[encoded data removed]",
       "text": [
        "<matplotlib.figure.Figure at 0x114c0e1d0>"
       ]
      }
     ],
     "prompt_number": 91
    },
    {
     "cell_type": "markdown",
     "metadata": {},
     "source": [
      "# Other utility functions\n",
      "\n",
      "We can use more general utility functions. The market equilibrium constraints generalize to\n",
      "\n",
      "\\begin{equation}\n",
      "\\nabla u_i(x_i)^T x_i \\geq \\nabla_j u_i(x_i) \\sum_{k=1}^n w_{ik} e^{\\phi_k - \\phi_j},\\quad \\forall i,j,\n",
      "\\end{equation}\n",
      "\n",
      "We'll write it as\n",
      "\\begin{equation}\n",
      "\\log(\\nabla u_i(x_i)^T x_i) \\geq \\log(\\nabla_j u_i(x_i)) + \\log( \\sum_{k=1}^n w_{ik} e^{\\phi_k - \\phi_j}),\\quad \\forall i,j,\n",
      "\\end{equation}\n",
      "\n",
      "\\begin{equation}\n",
      "\\log(\\nabla u_i(x_i)^T x_i) + \\phi_j \\geq \\log(\\nabla_j u_i(x_i)) + \\log( \\sum_{k=1}^n w_{ik} e^{\\phi_k}),\\quad \\forall i,j.\n",
      "\\end{equation}\n",
      "\n",
      "The formulation is convex both of these conditions are true:\n",
      "- $\\log(\\nabla u_i(x_i)^T x_i)$ is concave\n",
      "- $\\log(\\nabla_j u_i(x_i))$ is convex\n",
      "\n",
      "This holds for a few functions:\n",
      "- $u(x) = a^T x$\n",
      "- $u(x) = \\sum_{j=1}^n a_j (x_j+ b_j)^{d_j}$, for $a_j, b_j \\geq 0$ and $0 \\leq d_j \\leq 1$\n",
      "- $u(x) = \\sum_{j=1}^n a_j \\log(x_j+ b_j)$, for $a_j, b_j \\geq 0$\n",
      "\n",
      "These cover some special cases, given in Chen, Ye, Zhang.\n",
      "\n",
      "Other functions to consider:\n",
      "- all constant elasticity functions\n",
      "\\begin{equation}\n",
      "u(x) =  \\left(\\sum_{j=1}^n (a_j x_j)^{(\\sigma-1)/\\sigma} \\right)^{\\sigma/(\\sigma-1)}\n",
      "\\end{equation}\n",
      "for $a_j \\geq 0$ and $0 < \\sigma < \\infty$.\n",
      "- nested versions of the above\n",
      "- piecewise linear concave functions\n",
      "\\begin{equation}\n",
      "u(x) = \\min_k \\lbrace a^{kT} x \\rbrace,\n",
      "\\end{equation}\n",
      "where $a^k \\geq 0$ for all $k$.\n",
      "\n",
      "# Utility function specifics\n",
      "## $u(x) = \\sum_{j=1}^n a_j (x_j+ b_j)^{d_j}$, for $a_j, b_j \\geq 0$ and $0 < d_j \\leq 1$\n",
      "- $\\log(\\nabla u_i(x_i)^T x_i) = \\log \\left( \\sum_{j=1}^n a_j d_j x_j(x_j+b_j)^{d_j-1} \\right)$ is concave because $\\log$ is concave and increasing and $x_j(x_j+b_j)^{d_j-1}$ is concave\n",
      "- $\\log(\\nabla_j u_i(x_i)) = \\log (a_j d_j) + (d_j-1) \\log(x_j + b_j)$ is convex\n",
      "\n",
      "## $u(x) = \\sum_{j=1}^n a_j \\log(x_j+ b_j)$, for $a_j, b_j \\geq 0$\n",
      "- $\\log(\\nabla u_i(x_i)^T x_i) = \\log \\left( \\sum_{j=1}^n a_j x_j(x_j+b_j)^{-1} \\right)$ is concave\n",
      "- $\\log(\\nabla_j u_i(x_i)) = \\log (a_j) - \\log(x_j + b_j)$ is convex"
     ]
    },
    {
     "cell_type": "code",
     "collapsed": false,
     "input": [
      "x = np.linspace(0,10,100)\n",
      "d = .3\n",
      "y = x*((x+1)**(-d))\n",
      "fig = plt.figure(figsize=(10,10))\n",
      "ax = fig.add_subplot(111, aspect='equal')\n",
      "ax.plot(x,y)"
     ],
     "language": "python",
     "metadata": {},
     "outputs": [
      {
       "metadata": {},
       "output_type": "pyout",
       "prompt_number": 62,
       "text": [
        "[<matplotlib.lines.Line2D at 0x112e79210>]"
       ]
      },
      {
       "metadata": {},
       "output_type": "display_data",
       "png": "[encoded data removed]",
       "text": [
        "<matplotlib.figure.Figure at 0x112c895d0>"
       ]
      }
     ],
     "prompt_number": 62
    },
    {
     "cell_type": "code",
     "collapsed": false,
     "input": [
      "x = np.linspace(0,10,100)\n",
      "d = .4\n",
      "y = x/((1+x)**d)\n",
      "fig = plt.figure(figsize=(10,10))\n",
      "ax = fig.add_subplot(111)\n",
      "ax.plot(x,y)"
     ],
     "language": "python",
     "metadata": {},
     "outputs": [
      {
       "metadata": {},
       "output_type": "pyout",
       "prompt_number": 97,
       "text": [
        "[<matplotlib.lines.Line2D at 0x1165b0a50>]"
       ]
      },
      {
       "metadata": {},
       "output_type": "display_data",
       "png": "[encoded data removed]",
       "text": [
        "<matplotlib.figure.Figure at 0x1163d4f90>"
       ]
      }
     ],
     "prompt_number": 97
    },
    {
     "cell_type": "code",
     "collapsed": false,
     "input": [
      "1/.5"
     ],
     "language": "python",
     "metadata": {},
     "outputs": [
      {
       "metadata": {},
       "output_type": "pyout",
       "prompt_number": 66,
       "text": [
        "2.0"
       ]
      }
     ],
     "prompt_number": 66
    },
    {
     "cell_type": "code",
     "collapsed": false,
     "input": [
      "x = np.linspace(0,10,100)\n",
      "d = .3\n",
      "y = x/(1+np.exp(x+.1))\n",
      "fig = plt.figure(figsize=(10,10))\n",
      "ax = fig.add_subplot(111)\n",
      "ax.plot(x,y)"
     ],
     "language": "python",
     "metadata": {},
     "outputs": [
      {
       "metadata": {},
       "output_type": "pyout",
       "prompt_number": 100,
       "text": [
        "[<matplotlib.lines.Line2D at 0x116a820d0>]"
       ]
      },
      {
       "metadata": {},
       "output_type": "display_data",
       "png": "[encoded data removed]",
       "text": [
        "<matplotlib.figure.Figure at 0x113d22810>"
       ]
      }
     ],
     "prompt_number": 100
    },
    {
     "cell_type": "code",
     "collapsed": false,
     "input": [],
     "language": "python",
     "metadata": {},
     "outputs": []
    }
   ],
   "metadata": {}
  }
 ]
}