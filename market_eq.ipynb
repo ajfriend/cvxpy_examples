{
 "metadata": {
  "name": "",
  "signature": "sha256:0803f35b439a060e1f2dc5abf2c7fd72d221d36bafb16d07314998143a93313f"
 },
 "nbformat": 3,
 "nbformat_minor": 0,
 "worksheets": [
  {
   "cells": [
    {
     "cell_type": "code",
     "collapsed": false,
     "input": [
      "m = 5\n",
      "n = 6\n",
      "A = randn(m,n)**2\n",
      "B = rand(m,n)"
     ],
     "language": "python",
     "metadata": {},
     "outputs": [],
     "prompt_number": 55
    },
    {
     "cell_type": "code",
     "collapsed": false,
     "input": [
      "# E = cvx.hstack(*[phi for i in range(phi.size[0])])\n",
      "# E = cvx.mul_elemwise(A,B*cvx.exp(E - E.T))\n",
      "import cvxpy as cvx\n",
      "x = cvx.Variable(m,n)\n",
      "phi = cvx.Variable(n)\n",
      "\n",
      "lhs = cvx.mul_elemwise(A,x)\n",
      "lhs = sum(lhs[:,i] for i in range(n))\n",
      "\n",
      "objective = 0\n",
      "constraints = [x >= 0, sum(x[i,:] for i in range(x.size[0])).T == B.sum(axis=0)] + [lhs[i] >= A[i,j]*sum(B[i,k]*cvx.exp(phi[k]-phi[j]) for k in range(n)) for i in range(m) for j in range(n)]\n",
      "\n",
      "objective = cvx.Minimize(objective)\n",
      "prob = cvx.Problem(objective,constraints)\n",
      "result = prob.solve(solver=cvx.SCS, verbose=True)"
     ],
     "language": "python",
     "metadata": {},
     "outputs": [
      {
       "output_type": "stream",
       "stream": "stdout",
       "text": [
        "----------------------------------------------------------------------------\n",
        "\tscs v1.0 - Splitting Conic Solver\n",
        "\t(c) Brendan O'Donoghue, Stanford University, 2012\n",
        "----------------------------------------------------------------------------\n",
        "Method: sparse-direct, nnz in A = 930\n",
        "EPS = 1.00e-03, ALPHA = 1.80, MAX_ITERS = 2500, NORMALIZE = 1, SCALE = 5.00\n",
        "Variables n = 216, constraints m = 606\n",
        "Cones:\tprimal zero / dual free vars: 6\n",
        "\tlinear vars: 60\n",
        "\tsoc vars: 0, soc blks: 0\n",
        "\tsd vars: 0, sd blks: 0\n",
        "\texp vars: 540, dual exp vars: 0\n",
        "----------------------------------------------------------------------------\n",
        " Iter | pri res | dua res | rel gap | pri obj | dua obj |  kappa  | time (s)\n",
        "============================================================================\n",
        "     0|      nan  1.66e+00       nan       nan       inf  5.14e+00  4.80e-03 \n",
        "   100|"
       ]
      },
      {
       "output_type": "stream",
       "stream": "stdout",
       "text": [
        " 1.16e-02  1.51e-03  2.47e-03  0.00e+00 -2.47e-03  0.00e+00  1.03e-01 \n",
        "   200|"
       ]
      },
      {
       "output_type": "stream",
       "stream": "stdout",
       "text": [
        " 3.10e-03  2.31e-04  2.75e-04  0.00e+00  2.75e-04  0.00e+00  1.92e-01 \n",
        "   280|"
       ]
      },
      {
       "output_type": "stream",
       "stream": "stdout",
       "text": [
        " 8.57e-04  1.17e-04  2.02e-04  0.00e+00 -2.02e-04  0.00e+00  2.79e-01 \n",
        "----------------------------------------------------------------------------\n",
        "Status: Solved\n",
        "Timing: Solve time: 2.79e-01s, setup time: 3.94e-04s\n",
        "\tLin-sys: nnz in L factor: 2072, avg solve time: 1.16e-05s\n",
        "\tCones: avg projection time: 9.58e-04s\n",
        "----------------------------------------------------------------------------\n",
        "Error metrics:\n",
        "|Ax + s - b|_2 / (1 + |b|_2) = 8.5729e-04\n",
        "|A'y + c|_2 / (1 + |c|_2) = 1.1691e-04\n",
        "|c'x + b'y| / (1 + |c'x| + |b'y|) = 2.0220e-04\n",
        "dist(s, K) = 0, dist(y, K*) = 0, s'y = 0\n",
        "----------------------------------------------------------------------------\n",
        "c'x = 0.0000, -b'y = -0.0002\n",
        "============================================================================\n"
       ]
      }
     ],
     "prompt_number": 56
    },
    {
     "cell_type": "code",
     "collapsed": false,
     "input": [
      "prices = np.exp(np.array(phi.value))\n",
      "prices"
     ],
     "language": "python",
     "metadata": {},
     "outputs": [
      {
       "metadata": {},
       "output_type": "pyout",
       "prompt_number": 33,
       "text": [
        "array([[ 0.98589377],\n",
        "       [ 0.44562921],\n",
        "       [ 1.03295744],\n",
        "       [ 0.95615358],\n",
        "       [ 0.66867451],\n",
        "       [ 0.78524878],\n",
        "       [ 0.8672492 ],\n",
        "       [ 1.11525473],\n",
        "       [ 1.22103166],\n",
        "       [ 1.11970917],\n",
        "       [ 1.28753054],\n",
        "       [ 1.64147048],\n",
        "       [ 0.82507619],\n",
        "       [ 1.19251928],\n",
        "       [ 1.3092381 ],\n",
        "       [ 1.15444739],\n",
        "       [ 1.07969376],\n",
        "       [ 1.01743923],\n",
        "       [ 1.06324212],\n",
        "       [ 1.45195032],\n",
        "       [ 1.12167494],\n",
        "       [ 0.926093  ],\n",
        "       [ 1.18530055],\n",
        "       [ 1.04190464],\n",
        "       [ 1.21283246],\n",
        "       [ 0.52946901],\n",
        "       [ 1.06698046],\n",
        "       [ 0.80861685],\n",
        "       [ 0.95903081],\n",
        "       [ 0.9135385 ]])"
       ]
      }
     ],
     "prompt_number": 33
    },
    {
     "cell_type": "code",
     "collapsed": false,
     "input": [
      "matshow(np.array(x.value))"
     ],
     "language": "python",
     "metadata": {},
     "outputs": [
      {
       "metadata": {},
       "output_type": "pyout",
       "prompt_number": 34,
       "text": [
        "<matplotlib.image.AxesImage at 0x11dc43f50>"
       ]
      },
      {
       "metadata": {},
       "output_type": "display_data",
       "png": "[encoded data removed]",
       "text": [
        "<matplotlib.figure.Figure at 0x10c0e9e10>"
       ]
      }
     ],
     "prompt_number": 34
    },
    {
     "cell_type": "code",
     "collapsed": false,
     "input": [
      "duals = [constraints[i].dual_value for i in range(2,len(constraints))]"
     ],
     "language": "python",
     "metadata": {},
     "outputs": [],
     "prompt_number": 46
    },
    {
     "cell_type": "code",
     "collapsed": false,
     "input": [
      "len([i for i in duals if i > 0.0001])"
     ],
     "language": "python",
     "metadata": {},
     "outputs": [
      {
       "metadata": {},
       "output_type": "pyout",
       "prompt_number": 54,
       "text": [
        "39"
       ]
      }
     ],
     "prompt_number": 54
    },
    {
     "cell_type": "code",
     "collapsed": false,
     "input": [
      "ls"
     ],
     "language": "python",
     "metadata": {},
     "outputs": [
      {
       "output_type": "stream",
       "stream": "stdout",
       "text": [
        "README.md                   inpainting.ipynb            market_eq_sp.ipynb          player_ranking_final.ipynb\r\n",
        "Untitled0.ipynb             inpainting2.ipynb           notes.md                    regression.py\r\n",
        "anomaly.ipynb               inpainting3.ipynb           parser.out                  rkf1.pdf\r\n",
        "block_lasso.ipynb           kalman.ipynb                parsetab.py                 rkf2.pdf\r\n",
        "constrained_rps.ipynb       kalman_talk.ipynb           parsetab.pyc                rkf3.pdf\r\n",
        "dexter.png                  lena.png                    plaus.m                     sparse_regression.ipynb\r\n",
        "\u001b[34mgamestats\u001b[m\u001b[m/                  market_eq.ipynb             player_ranking.ipynb\r\n"
       ]
      }
     ],
     "prompt_number": 1
    },
    {
     "cell_type": "code",
     "collapsed": false,
     "input": [
      "import networkx as nx"
     ],
     "language": "python",
     "metadata": {},
     "outputs": [
      {
       "ename": "ImportError",
       "evalue": "No module named networkx",
       "output_type": "pyerr",
       "traceback": [
        "\u001b[0;31m---------------------------------------------------------------------------\u001b[0m\n\u001b[0;31mImportError\u001b[0m                               Traceback (most recent call last)",
        "\u001b[0;32m<ipython-input-2-6002206e7c09>\u001b[0m in \u001b[0;36m<module>\u001b[0;34m()\u001b[0m\n\u001b[0;32m----> 1\u001b[0;31m \u001b[0;32mimport\u001b[0m \u001b[0mnetworkx\u001b[0m \u001b[0;32mas\u001b[0m \u001b[0mnx\u001b[0m\u001b[0;34m\u001b[0m\u001b[0m\n\u001b[0m",
        "\u001b[0;31mImportError\u001b[0m: No module named networkx"
       ]
      }
     ],
     "prompt_number": 2
    },
    {
     "cell_type": "code",
     "collapsed": false,
     "input": [],
     "language": "python",
     "metadata": {},
     "outputs": []
    }
   ],
   "metadata": {}
  }
 ]
}