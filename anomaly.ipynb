{
 "metadata": {
  "name": ""
 },
 "nbformat": 3,
 "nbformat_minor": 0,
 "worksheets": [
  {
   "cells": [
    {
     "cell_type": "code",
     "collapsed": false,
     "input": [
      "import numpy as np\n",
      "import cvxpy as cp\n",
      "import math\n",
      "\n",
      "n = 100\n",
      "m = 5*n\n",
      "nu = .1\n",
      "\n",
      "r = math.ceil(m/9.0)\n",
      "\n",
      "A0 = np.random.randn(m,n)\n",
      "A1 = np.random.randn(r,n)\n",
      "x0 = np.random.randn(n)\n",
      "\n",
      "b0 = A0.dot(x0) + math.sqrt(n)*nu*np.random.randn(m)\n",
      "b1 = np.sum(A1*np.random.randn(r,n),axis=1) + math.sqrt(n)*nu*np.random.randn(r)\n",
      "\n",
      "A = np.vstack((A0,A1))\n",
      "b = np.hstack((b0,b1))\n",
      "\n",
      "xls = np.linalg.lstsq(A,b)"
     ],
     "language": "python",
     "metadata": {},
     "outputs": [],
     "prompt_number": 24
    },
    {
     "cell_type": "code",
     "collapsed": false,
     "input": [],
     "language": "python",
     "metadata": {},
     "outputs": [],
     "prompt_number": 23
    },
    {
     "cell_type": "code",
     "collapsed": false,
     "input": [
      "\n",
      "A0 = randn(m,n);\n",
      "A1 = randn(r,n);\n",
      "x0 = randn(n,1);\n",
      "x1 = randn(n,1);\n",
      "\n",
      "b0 = A0*x0 + sqrt(n)*nu*randn(m,1);\n",
      "b1 = sum(A1.*randn(r,n),2) + sqrt(n)*nu*randn(r,1);\n",
      "\n",
      "b = [b0;b1];\n",
      "A = [A0;A1];\n",
      "\n",
      "xls = A\\b;\n",
      "\n",
      "% cvx_begin\n",
      "%     variable xc(n)\n",
      "%     minimize( norm(A*xc - b,1) )\n",
      "% cvx_end\n",
      "\n",
      "cvx_begin\n",
      "    variable xc(n)\n",
      "    minimize( sum(huber(A*xc - b, 2*sqrt(n)*nu)) )\n",
      "cvx_end\n",
      "\n",
      "norm(x0-xls)/norm(x0-xc)\n",
      "\n",
      "% errors\n",
      "k = r;\n",
      "\n",
      "[~,indx] = sort(abs(A*xls-b),'descend');\n",
      "%false pos\n",
      "sum(indx(1:k) <= m)/(m+r)\n",
      "%false neg\n",
      "sum(indx(k+1:end) > m)/(m+r)\n",
      "\n",
      "\n",
      "[~,indx] = sort(abs(A*xc-b),'descend');\n",
      "%false pos\n",
      "sum(indx(1:k) <= m)/(m+r)\n",
      "%false neg\n",
      "sum(indx(k+1:end) > m)/(m+r)\n"
     ],
     "language": "python",
     "metadata": {},
     "outputs": [
      {
       "metadata": {},
       "output_type": "pyout",
       "prompt_number": 3,
       "text": [
        "var1"
       ]
      }
     ],
     "prompt_number": 3
    },
    {
     "cell_type": "code",
     "collapsed": false,
     "input": [],
     "language": "python",
     "metadata": {},
     "outputs": []
    }
   ],
   "metadata": {}
  }
 ]
}