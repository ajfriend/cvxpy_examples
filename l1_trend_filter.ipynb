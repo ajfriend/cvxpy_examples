{
 "metadata": {
  "name": "",
  "signature": "sha256:6b4724b10dbcb5533e7f34072114d37e60563b1bd9cbb963834d79ff6e11762d"
 },
 "nbformat": 3,
 "nbformat_minor": 0,
 "worksheets": [
  {
   "cells": [
    {
     "cell_type": "markdown",
     "metadata": {},
     "source": [
      "# $\\ell_1$ trend filtering\n",
      "\n",
      "A derivative work by Judson Wilson, 5/28/2014.<br>\n",
      "Adapted from the CVX example of the same name, by Kwangmoo Koh, 12/10/2007\n",
      "\n",
      "Topic Reference:\n",
      "\n",
      "* S.-J. Kim, K. Koh, S. Boyd, and D. Gorinevsky, ``l_1 Trend Filtering''<br>\n",
      "http://stanford.edu/~boyd/papers/l1_trend_filter.html\n",
      "\n",
      "## Introduction\n",
      "\n",
      "The problem of estimating underlying trends in time series data arises in a variety of disciplines. The $\\ell_1$ trend filtering method produces trend estimates $x$ that are piecewise linear from the time series $y$.\n",
      "\n",
      "The $\\ell_1$ trend estimation problem can be formulated as\n",
      "    \\begin{array}{ll}\n",
      "    \\mbox{minimize}   &  (1/2)||y-x||_2^2 + \\lambda ||Dx||_1,\n",
      "    \\end{array}\n",
      "with variable $x$ , and problem data $y$ and $\\lambda$, with $\\lambda >0$.\n",
      "$D$ is the second difference matrix, with rows \n",
      "    $$\\begin{bmatrix}0 & \\cdots & 0 & -1 & 2 & -1 & 0 & \\cdots & 0 \\end{bmatrix}.$$\n",
      "CVXPY is not optimized for the $\\ell_1$ trend filtering problem.\n",
      "For large problems, use l1_tf (http://www.stanford.edu/~boyd/l1_tf/).\n",
      "\n",
      "## Formulate and solve problem"
     ]
    },
    {
     "cell_type": "code",
     "collapsed": false,
     "input": [
      "import numpy as np\n",
      "import cvxpy as cvx\n",
      "import scipy as scipy\n",
      "import cvxopt as cvxopt\n",
      "\n",
      "# Load time series data: S&P 500 price log.\n",
      "y = np.loadtxt(open('data/snp500.txt', 'rb'), delimiter=\",\", skiprows=1)\n",
      "n = y.size\n",
      "# Form second difference matrix.\n",
      "e = np.mat(np.ones((1, n)))\n",
      "D = scipy.sparse.spdiags(np.vstack((e, -2*e, e)), range(3), n-2, n)\n",
      "# Convert D to cvxopt sparse format, due to bug in scipy which prevents\n",
      "# overloading neccessary for CVXPY. Use COOrdinate format as intermediate.\n",
      "D_coo = D.tocoo()\n",
      "D = cvxopt.spmatrix(D_coo.data, D_coo.row.tolist(), D_coo.col.tolist())\n",
      "\n",
      "# Set regularization parameter.\n",
      "vlambda = 50\n",
      "# Solve l1 trend filtering problem.\n",
      "x = cvx.Variable(n)\n",
      "obj = cvx.Minimize(0.5 * cvx.sum_squares(y - x)\n",
      "                   + vlambda * cvx.norm(D*x, 1) )\n",
      "prob = cvx.Problem(obj)\n",
      "# ECOS and SCS solvers fail to converge before\n",
      "# the iteration limit. Use CVXOPT instead.\n",
      "prob.solve(solver=cvx.CVXOPT,verbose=True)\n",
      "\n",
      "print 'Solver status: ', prob.status\n",
      "# Check for error.\n",
      "if prob.status != cvx.OPTIMAL:\n",
      "    raise Exception(\"Solver did not converge!\")"
     ],
     "language": "python",
     "metadata": {},
     "outputs": [
      {
       "output_type": "stream",
       "stream": "stdout",
       "text": [
        "     pcost       dcost       gap    pres   dres   k/t\n",
        " 0: -4.6668e-11 -1.0000e+00  1e+05  3e-01  4e-02  1e+00\n",
        " 1:  5.3971e-02 -6.9550e-03  1e+04  2e-02  3e-03  1e-01"
       ]
      },
      {
       "output_type": "stream",
       "stream": "stdout",
       "text": [
        "\n",
        " 2:  1.5513e-01  2.2236e-01  3e+03  7e-03  1e-03  1e-01"
       ]
      },
      {
       "output_type": "stream",
       "stream": "stdout",
       "text": [
        "\n",
        " 3:  1.4714e-01  2.3287e-01  6e+02  1e-03  2e-04  1e-01"
       ]
      },
      {
       "output_type": "stream",
       "stream": "stdout",
       "text": [
        "\n",
        " 4:  5.3138e-01  5.4713e-01  1e+02  2e-04  3e-05  2e-02"
       ]
      },
      {
       "output_type": "stream",
       "stream": "stdout",
       "text": [
        "\n",
        " 5:  5.1410e-01  5.3063e-01  1e+02  2e-04  3e-05  2e-02"
       ]
      },
      {
       "output_type": "stream",
       "stream": "stdout",
       "text": [
        "\n",
        " 6:  7.2454e-01  7.3795e-01  7e+01  1e-04  2e-05  1e-02"
       ]
      },
      {
       "output_type": "stream",
       "stream": "stdout",
       "text": [
        "\n",
        " 7:  8.0702e-01  8.1346e-01  3e+01  6e-05  1e-05  7e-03"
       ]
      },
      {
       "output_type": "stream",
       "stream": "stdout",
       "text": [
        "\n",
        " 8:  9.4942e-01  9.5462e-01  2e+01  5e-05  8e-06  6e-03"
       ]
      },
      {
       "output_type": "stream",
       "stream": "stdout",
       "text": [
        "\n",
        " 9:  1.0232e+00  1.0254e+00  1e+01  2e-05  3e-06  2e-03"
       ]
      },
      {
       "output_type": "stream",
       "stream": "stdout",
       "text": [
        "\n",
        "10:  1.1802e+00  1.1812e+00  4e+00  8e-06  1e-06  1e-03"
       ]
      },
      {
       "output_type": "stream",
       "stream": "stdout",
       "text": [
        "\n",
        "11:  1.2596e+00  1.2601e+00  2e+00  4e-06  7e-07  5e-04"
       ]
      },
      {
       "output_type": "stream",
       "stream": "stdout",
       "text": [
        "\n",
        "12:  1.3502e+00  1.3504e+00  1e+00  2e-06  3e-07  2e-04"
       ]
      },
      {
       "output_type": "stream",
       "stream": "stdout",
       "text": [
        "\n",
        "13:  1.3794e+00  1.3794e+00  3e-01  6e-07  1e-07  8e-05"
       ]
      },
      {
       "output_type": "stream",
       "stream": "stdout",
       "text": [
        "\n",
        "14:  1.3956e+00  1.3956e+00  1e-01  3e-07  4e-08  3e-05"
       ]
      },
      {
       "output_type": "stream",
       "stream": "stdout",
       "text": [
        "\n",
        "15:  1.3993e+00  1.3993e+00  4e-02  8e-08  1e-08  1e-05"
       ]
      },
      {
       "output_type": "stream",
       "stream": "stdout",
       "text": [
        "\n",
        "16:  1.3994e+00  1.3994e+00  4e-02  8e-08  1e-08  1e-05"
       ]
      },
      {
       "output_type": "stream",
       "stream": "stdout",
       "text": [
        "\n",
        "17:  1.4009e+00  1.4009e+00  1e-02  2e-08  4e-09  3e-06"
       ]
      },
      {
       "output_type": "stream",
       "stream": "stdout",
       "text": [
        "\n",
        "18:  1.4012e+00  1.4012e+00  7e-03  1e-08  2e-09  2e-06"
       ]
      },
      {
       "output_type": "stream",
       "stream": "stdout",
       "text": [
        "\n",
        "19:  1.4014e+00  1.4014e+00  2e-03  4e-09  6e-10  5e-07"
       ]
      },
      {
       "output_type": "stream",
       "stream": "stdout",
       "text": [
        "\n",
        "20:  1.4014e+00  1.4014e+00  2e-03  3e-09  5e-10  4e-07"
       ]
      },
      {
       "output_type": "stream",
       "stream": "stdout",
       "text": [
        "\n",
        "21:  1.4014e+00  1.4014e+00  2e-04  3e-10  5e-11  4e-08"
       ]
      },
      {
       "output_type": "stream",
       "stream": "stdout",
       "text": [
        "\n",
        "22:  1.4014e+00  1.4014e+00  3e-05  6e-11  9e-12  7e-09"
       ]
      },
      {
       "output_type": "stream",
       "stream": "stdout",
       "text": [
        "\n",
        "23:  1.4014e+00  1.4014e+00  2e-06  3e-12  5e-13  4e-10"
       ]
      },
      {
       "output_type": "stream",
       "stream": "stdout",
       "text": [
        "\n",
        "24:  1.4014e+00  1.4014e+00  2e-08  4e-14  6e-15  5e-12"
       ]
      },
      {
       "output_type": "stream",
       "stream": "stdout",
       "text": [
        "\n",
        "Optimal solution found.\n",
        "Solver status: "
       ]
      },
      {
       "output_type": "stream",
       "stream": "stdout",
       "text": [
        " optimal\n"
       ]
      }
     ],
     "prompt_number": 1
    },
    {
     "cell_type": "markdown",
     "metadata": {},
     "source": [
      "## Results plot"
     ]
    },
    {
     "cell_type": "code",
     "collapsed": false,
     "input": [
      "import matplotlib.pyplot as plt\n",
      "\n",
      "# Show plots inline in ipython.\n",
      "%matplotlib inline\n",
      "\n",
      "# Plot properties.\n",
      "plt.rc('text', usetex=True)\n",
      "plt.rc('font', family='serif')\n",
      "font = {'family' : 'normal',\n",
      "        'weight' : 'normal',\n",
      "        'size'   : 16}\n",
      "plt.rc('font', **font)\n",
      "\n",
      "# Plot estimated trend with original signal.\n",
      "plt.figure(figsize=(6, 6))\n",
      "plt.plot(np.arange(1,n+1), y, 'k:', linewidth=1.0)\n",
      "plt.plot(np.arange(1,n+1), np.array(x.value), 'b-', linewidth=2.0)\n",
      "plt.xlabel('date')\n",
      "plt.ylabel('log price')"
     ],
     "language": "python",
     "metadata": {},
     "outputs": [
      {
       "metadata": {},
       "output_type": "pyout",
       "prompt_number": 2,
       "text": [
        "<matplotlib.text.Text at 0x10e95aad0>"
       ]
      },
      {
       "metadata": {},
       "output_type": "display_data",
       "png": "[encoded data removed]",
       "text": [
        "<matplotlib.figure.Figure at 0x10c884c50>"
       ]
      }
     ],
     "prompt_number": 2
    }
   ],
   "metadata": {}
  }
 ]
}