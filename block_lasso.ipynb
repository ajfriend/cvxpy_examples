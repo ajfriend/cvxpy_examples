{
 "metadata": {
  "name": ""
 },
 "nbformat": 3,
 "nbformat_minor": 0,
 "worksheets": [
  {
   "cells": [
    {
     "cell_type": "markdown",
     "metadata": {},
     "source": [
      "# Stuffing the LASSO problem\n",
      "\n",
      "$\\min \\|A x - b\\|_2 + \\gamma \\|x\\|_1$ can be suffed into the form\n",
      "\n",
      "with \n",
      "\n",
      "```\n",
      "tilde A = \n",
      "| -I | 0  | -I |\n",
      "| I  | 0  | -I |\n",
      "| 0  | -1 | 0  |\n",
      "| -A | 0  | 0  |\n",
      "```\n",
      "\n",
      "stuffed A is 2*n + 1+m by 2*n +1"
     ]
    },
    {
     "cell_type": "code",
     "collapsed": false,
     "input": [
      "import cvxpy as cp\n",
      "import numpy as np\n",
      "import scipy.sparse as sp\n",
      "import scs\n",
      "\n",
      "m = 200\n",
      "n = 300\n",
      "A = np.random.randn(m,n)\n",
      "b = np.random.randn(m)\n",
      "gamma = 0.1"
     ],
     "language": "python",
     "metadata": {},
     "outputs": [],
     "prompt_number": 5
    },
    {
     "cell_type": "code",
     "collapsed": false,
     "input": [
      "x = cp.Variable(n)\n",
      "objective = cp.Minimize(cp.norm(A*x - b,2) + gamma*cp.norm(x, 1))\n",
      "p = cp.Problem(objective)\n",
      "#result = p.solve(solver=cp.SCS, verbose=True)\n",
      "\n",
      "#x1 = np.array(x.value).flatten()"
     ],
     "language": "python",
     "metadata": {},
     "outputs": [],
     "prompt_number": 2
    },
    {
     "cell_type": "code",
     "collapsed": false,
     "input": [
      "1.24e-1/3.99"
     ],
     "language": "python",
     "metadata": {},
     "outputs": [
      {
       "metadata": {},
       "output_type": "pyout",
       "prompt_number": 19,
       "text": [
        "0.03107769423558897"
       ]
      }
     ],
     "prompt_number": 19
    },
    {
     "cell_type": "code",
     "collapsed": false,
     "input": [
      "2.49e-1/33.61"
     ],
     "language": "python",
     "metadata": {},
     "outputs": [
      {
       "metadata": {},
       "output_type": "pyout",
       "prompt_number": 22,
       "text": [
        "0.007408509372210652"
       ]
      }
     ],
     "prompt_number": 22
    },
    {
     "cell_type": "code",
     "collapsed": false,
     "input": [
      "0.03107769423558897/0.007408509372210652"
     ],
     "language": "python",
     "metadata": {},
     "outputs": [
      {
       "metadata": {},
       "output_type": "pyout",
       "prompt_number": 21,
       "text": [
        "4.194864671719459"
       ]
      }
     ],
     "prompt_number": 21
    },
    {
     "cell_type": "code",
     "collapsed": false,
     "input": [
      "_A = p.get_problem_data(cp.SCS)[0]['A']\n",
      "_b = p.get_problem_data(cp.SCS)[0]['b']\n",
      "_c = p.get_problem_data(cp.SCS)[0]['c']\n",
      "_dims = p.get_problem_data(cp.SCS)[1]"
     ],
     "language": "python",
     "metadata": {},
     "outputs": [],
     "prompt_number": 3
    },
    {
     "cell_type": "code",
     "collapsed": false,
     "input": [
      "spy(_A)"
     ],
     "language": "python",
     "metadata": {},
     "outputs": [
      {
       "metadata": {},
       "output_type": "pyout",
       "prompt_number": 4,
       "text": [
        "<matplotlib.lines.Line2D at 0x109a51350>"
       ]
      },
      {
       "metadata": {},
       "output_type": "display_data",
       "png": "[encoded data removed]",
       "text": [
        "<matplotlib.figure.Figure at 0x1085d0310>"
       ]
      }
     ],
     "prompt_number": 4
    },
    {
     "cell_type": "code",
     "collapsed": false,
     "input": [
      "\n",
      "def formLasso(A,b,gamma):\n",
      "    m,n = A.shape\n",
      "    _b = np.zeros(2*n + m + 1)\n",
      "    _b[2*n+1:] = -b\n",
      "    _c = np.zeros(2*n+1)\n",
      "    _c[n] = 1.0\n",
      "    _c[n+1:] = gamma\n",
      "    cone = {'ep': 0, 'f': 0, 'l': 2*n, 'q': [m+1], 's': []}\n",
      "    _A = sp.bmat([[-sp.eye(n), None, -sp.eye(n)],[sp.eye(n), None, -sp.eye(n)],[None, -sp.eye(1), None], [-sp.coo_matrix(A),None,None]],format='csc')\n",
      "    \n",
      "    data = {'A': _A, 'b': _b, 'c': _c}\n",
      "    \n",
      "    return data, cone\n",
      "\n",
      "def scslasso(A, b, gamma):\n",
      "    m,n = A.shape\n",
      "    data, cone = formLasso(A,b,gamma)\n",
      "    sol = scs.solve(data, cone, USE_INDIRECT = True)\n",
      "    return sol['x'][0:n]"
     ],
     "language": "python",
     "metadata": {},
     "outputs": [],
     "prompt_number": 6
    },
    {
     "cell_type": "code",
     "collapsed": false,
     "input": [
      "x2 = scslasso(A,b,gamma)"
     ],
     "language": "python",
     "metadata": {},
     "outputs": [
      {
       "output_type": "stream",
       "stream": "stdout",
       "text": [
        "----------------------------------------------------------------------------\n",
        "\tscs v1.0 - Splitting Conic Solver\n",
        "\t(c) Brendan O'Donoghue, Stanford University, 2012\n",
        "----------------------------------------------------------------------------\n",
        "Method: sparse-indirect, nnz in A = 1441, CG tol ~ 1/iter^(1.50)\n",
        "EPS = 1.00e-03, ALPHA = 1.80, MAX_ITERS = 2500, NORMALIZE = 1, SCALE = 5.0\n",
        "Variables n = 121, constraints m = 141\n",
        "Cones:\tprimal zero / dual free vars: 0\n",
        "\tlinear vars: 120\n",
        "\tsoc vars: 21, soc blks: 1\n",
        "\tsd vars: 0, sd blks: 0\n",
        "\texp vars: 0, dual exp vars: 0\n",
        "----------------------------------------------------------------------------\n",
        " Iter | pri res | dua res | rel gap | pri obj | dua obj |  kappa  | time (s)\n",
        "============================================================================\n",
        "     0| 7.46e+00  5.21e+00       nan      -inf       inf  2.97e+01  2.09e-03 \n",
        "   100| 1.73e-03  5.09e-02  5.75e-03  4.72e-01  4.84e-01  0.00e+00  4.77e-03 \n",
        "   200| 4.99e-04  2.75e-02  1.42e-04  4.50e-01  4.50e-01  0.00e+00  7.46e-03 \n",
        "   300| 3.19e-04  2.25e-02  1.10e-04  4.42e-01  4.43e-01  0.00e+00  1.10e-02 \n",
        "   400| 3.30e-04  2.19e-02  9.68e-05  4.35e-01  4.35e-01  0.00e+00  1.58e-02 \n",
        "   500| 2.41e-04  1.28e-02  4.48e-05  4.30e-01  4.30e-01  2.60e-16  1.91e-02 \n",
        "   600| 1.50e-04  8.84e-03  1.02e-04  4.29e-01  4.29e-01  2.60e-16  2.24e-02 \n",
        "   700| 1.89e-04  6.00e-03  3.31e-05  4.29e-01  4.29e-01  0.00e+00  2.55e-02 \n",
        "   800| 1.56e-04  5.71e-03  9.10e-06  4.28e-01  4.28e-01  2.60e-16  2.86e-02 \n",
        "   900| 5.34e-05  6.61e-03  8.48e-06  4.28e-01  4.28e-01  2.60e-16  3.28e-02 \n",
        "  1000| 1.00e-04  5.88e-03  1.37e-05  4.27e-01  4.27e-01  0.00e+00  3.62e-02 \n",
        "  1100| 8.21e-05  2.72e-03  5.79e-06  4.27e-01  4.27e-01  2.60e-16  3.90e-02 \n",
        "  1200| 5.56e-05  1.06e-03  1.38e-05  4.27e-01  4.27e-01  0.00e+00  4.23e-02 \n",
        "  1300| 2.48e-05  1.26e-03  4.86e-06  4.27e-01  4.27e-01  0.00e+00  4.47e-02 \n",
        "  1340| 3.15e-05  9.80e-04  6.28e-06  4.27e-01  4.27e-01  2.60e-16  4.58e-02 \n",
        "----------------------------------------------------------------------------\n",
        "Status: Solved\n",
        "Timing: Solve time: 4.58e-02s, setup time: 4.92e-05s\n",
        "\tLin-sys: avg # CG iterations: 3.70, avg solve time: 2.69e-05s\n",
        "\tCones: avg projection time: 2.55e-07s\n",
        "----------------------------------------------------------------------------\n",
        "Error metrics:\n",
        "|Ax + s - b|_2 / (1 + |b|_2) = 3.1471e-05\n",
        "|A'y + c|_2 / (1 + |c|_2) = 9.7999e-04\n",
        "|c'x + b'y| / (1 + |c'x| + |b'y|) = 6.2793e-06\n",
        "dist(s, K) = 0, dist(y, K*) = 0, s'y = 0\n",
        "----------------------------------------------------------------------------\n",
        "c'x = 0.4272, -b'y = 0.4272\n",
        "============================================================================\n"
       ]
      }
     ],
     "prompt_number": 9
    },
    {
     "cell_type": "code",
     "collapsed": false,
     "input": [
      "x1"
     ],
     "language": "python",
     "metadata": {},
     "outputs": [
      {
       "metadata": {},
       "output_type": "pyout",
       "prompt_number": 152,
       "text": [
        "array([  4.28690047e-06,  -7.40540658e-01,   7.63876183e-01])"
       ]
      }
     ],
     "prompt_number": 152
    },
    {
     "cell_type": "code",
     "collapsed": false,
     "input": [
      "import scs\n",
      "sol = scs.solve(data, cone, USE_INDIRECT = True)"
     ],
     "language": "python",
     "metadata": {},
     "outputs": [
      {
       "output_type": "stream",
       "stream": "stdout",
       "text": [
        "----------------------------------------------------------------------------\n",
        "\tscs v1.0 - Splitting Conic Solver\n",
        "\t(c) Brendan O'Donoghue, Stanford University, 2012\n",
        "----------------------------------------------------------------------------\n",
        "Method: sparse-indirect, nnz in A = 19, CG tol ~ 1/iter^(1.50)\n",
        "EPS = 1.00e-03, ALPHA = 1.80, MAX_ITERS = 2500, NORMALIZE = 1, SCALE = 5.0\n",
        "Variables n = 7, constraints m = 9\n",
        "Cones:\tprimal zero / dual free vars: 0\n",
        "\tlinear vars: 6\n",
        "\tsoc vars: 3, soc blks: 1\n",
        "\tsd vars: 0, sd blks: 0\n",
        "\texp vars: 0, dual exp vars: 0\n",
        "----------------------------------------------------------------------------\n",
        " Iter | pri res | dua res | rel gap | pri obj | dua obj |  kappa  | time (s)\n",
        "============================================================================\n",
        "     0| 6.46e+00  1.58e+00       nan      -inf       inf  2.27e+00  2.82e-03 \n",
        "   100| 1.51e-04  5.95e-04  2.50e-04  1.50e-01  1.51e-01  6.19e-17  3.03e-03 \n",
        "----------------------------------------------------------------------------\n",
        "Status: Solved\n",
        "Timing: Solve time: 3.05e-03s, setup time: 8.98e-06s\n",
        "\tLin-sys: avg # CG iterations: 1.02, avg solve time: 4.31e-07s\n",
        "\tCones: avg projection time: 6.11e-08s\n",
        "----------------------------------------------------------------------------\n",
        "Error metrics:\n",
        "|Ax + s - b|_2 / (1 + |b|_2) = 1.4862e-04\n",
        "|A'y + c|_2 / (1 + |c|_2) = 5.9491e-04\n",
        "|c'x + b'y| / (1 + |c'x| + |b'y|) = 2.5042e-04\n",
        "dist(s, K) = 0, dist(y, K*) = 0, s'y = 0\n",
        "----------------------------------------------------------------------------\n",
        "c'x = 0.1505, -b'y = 0.1508\n",
        "============================================================================\n"
       ]
      }
     ],
     "prompt_number": 145
    },
    {
     "cell_type": "code",
     "collapsed": false,
     "input": [
      "plot(x1)"
     ],
     "language": "python",
     "metadata": {},
     "outputs": [
      {
       "metadata": {},
       "output_type": "pyout",
       "prompt_number": 10,
       "text": [
        "[<matplotlib.lines.Line2D at 0x10bda1290>]"
       ]
      },
      {
       "metadata": {},
       "output_type": "display_data",
       "png": "[encoded data removed]",
       "text": [
        "<matplotlib.figure.Figure at 0x10bd707d0>"
       ]
      }
     ],
     "prompt_number": 10
    },
    {
     "cell_type": "code",
     "collapsed": false,
     "input": [
      "plot(x2)"
     ],
     "language": "python",
     "metadata": {},
     "outputs": [
      {
       "metadata": {},
       "output_type": "pyout",
       "prompt_number": 11,
       "text": [
        "[<matplotlib.lines.Line2D at 0x10bdd1910>]"
       ]
      },
      {
       "metadata": {},
       "output_type": "display_data",
       "png": "[encoded data removed]",
       "text": [
        "<matplotlib.figure.Figure at 0x10baab850>"
       ]
      }
     ],
     "prompt_number": 11
    },
    {
     "cell_type": "code",
     "collapsed": false,
     "input": [
      "A = np.array([0.5112, -0.0827, 0.0655, -0.5621, -0.9059, 0.3577])\n",
      "A.resize((2,3))\n",
      "b = np.array([-0.3586, -0.8694])\n",
      "gamma = 0.5"
     ],
     "language": "python",
     "metadata": {},
     "outputs": [],
     "prompt_number": 1
    },
    {
     "cell_type": "code",
     "collapsed": false,
     "input": [
      "x2 = scslasso(A,b,gamma)"
     ],
     "language": "python",
     "metadata": {},
     "outputs": [
      {
       "output_type": "stream",
       "stream": "stdout",
       "text": [
        "----------------------------------------------------------------------------\n",
        "\tscs v1.0 - Splitting Conic Solver\n",
        "\t(c) Brendan O'Donoghue, Stanford University, 2012\n",
        "----------------------------------------------------------------------------\n",
        "Method: sparse-indirect, nnz in A = 19, CG tol ~ 1/iter^(1.50)\n",
        "EPS = 1.00e-03, ALPHA = 1.80, MAX_ITERS = 2500, NORMALIZE = 1, SCALE = 5.0\n",
        "Variables n = 7, constraints m = 9\n",
        "Cones:\tprimal zero / dual free vars: 0\n",
        "\tlinear vars: 6\n",
        "\tsoc vars: 3, soc blks: 1\n",
        "\tsd vars: 0, sd blks: 0\n",
        "\texp vars: 0, dual exp vars: 0\n",
        "----------------------------------------------------------------------------\n",
        " Iter | pri res | dua res | rel gap | pri obj | dua obj |  kappa  | time (s)\n",
        "============================================================================\n",
        "     0| 7.79e+00  1.40e+00       nan      -inf       inf  2.04e+00  3.01e-03 \n",
        "   100| 1.48e-03  3.08e-03  1.33e-04  7.22e-01  7.22e-01  0.00e+00  3.34e-03 \n",
        "   160| 1.46e-04  3.52e-04  3.04e-04  7.26e-01  7.26e-01  3.37e-17  3.77e-03 \n",
        "----------------------------------------------------------------------------\n",
        "Status: Solved\n",
        "Timing: Solve time: 3.79e-03s, setup time: 1.49e-05s\n",
        "\tLin-sys: avg # CG iterations: 1.40, avg solve time: 1.30e-06s\n",
        "\tCones: avg projection time: 8.73e-08s\n",
        "----------------------------------------------------------------------------\n",
        "Error metrics:\n",
        "|Ax + s - b|_2 / (1 + |b|_2) = 1.3715e-04\n",
        "|A'y + c|_2 / (1 + |c|_2) = 3.5232e-04\n",
        "|c'x + b'y| / (1 + |c'x| + |b'y|) = 3.0399e-04\n",
        "dist(s, K) = 0, dist(y, K*) = 0, s'y = 0\n",
        "----------------------------------------------------------------------------\n",
        "c'x = 0.7265, -b'y = 0.7257\n",
        "============================================================================\n"
       ]
      }
     ],
     "prompt_number": 13
    },
    {
     "cell_type": "markdown",
     "metadata": {},
     "source": [
      "# Equilibrate"
     ]
    },
    {
     "cell_type": "code",
     "collapsed": false,
     "input": [
      "A = np.array(_A.todense())"
     ],
     "language": "python",
     "metadata": {},
     "outputs": [],
     "prompt_number": 9
    },
    {
     "cell_type": "code",
     "collapsed": false,
     "input": [
      "B = abs(A)"
     ],
     "language": "python",
     "metadata": {},
     "outputs": [],
     "prompt_number": 12
    },
    {
     "cell_type": "code",
     "collapsed": false,
     "input": [
      "B.shape"
     ],
     "language": "python",
     "metadata": {},
     "outputs": [
      {
       "metadata": {},
       "output_type": "pyout",
       "prompt_number": 15,
       "text": [
        "(801, 601)"
       ]
      }
     ],
     "prompt_number": 15
    },
    {
     "cell_type": "code",
     "collapsed": false,
     "input": [
      "c = np.zeros(B.shape[1])+1\n",
      "r = np.zeros(B.shape[0])+1"
     ],
     "language": "python",
     "metadata": {},
     "outputs": [],
     "prompt_number": 166
    },
    {
     "cell_type": "code",
     "collapsed": false,
     "input": [
      "rs = r*(B.dot(c))\n",
      "r = 1/(B.dot(c))\n",
      "c = 1/(B.T.dot(r))\n",
      "\n",
      "#cs = c*(B.T.dot(r))\n",
      "np.std(rs)"
     ],
     "language": "python",
     "metadata": {},
     "outputs": [
      {
       "metadata": {},
       "output_type": "pyout",
       "prompt_number": 170,
       "text": [
        "0.087373921994836706"
       ]
      }
     ],
     "prompt_number": 170
    },
    {
     "cell_type": "code",
     "collapsed": false,
     "input": [
      "np.std(rs), np.std(r), np.std(c)"
     ],
     "language": "python",
     "metadata": {},
     "outputs": [
      {
       "metadata": {},
       "output_type": "pyout",
       "prompt_number": 171,
       "text": [
        "(0.087373921994836706, 0.26813357849753294, 0.18892755527529187)"
       ]
      }
     ],
     "prompt_number": 171
    },
    {
     "cell_type": "code",
     "collapsed": false,
     "input": [
      "semilogy(r)"
     ],
     "language": "python",
     "metadata": {},
     "outputs": [
      {
       "metadata": {},
       "output_type": "pyout",
       "prompt_number": 172,
       "text": [
        "[<matplotlib.lines.Line2D at 0x10ec62e10>]"
       ]
      },
      {
       "metadata": {},
       "output_type": "display_data",
       "png": "[encoded data removed]",
       "text": [
        "<matplotlib.figure.Figure at 0x10ea8b910>"
       ]
      }
     ],
     "prompt_number": 172
    },
    {
     "cell_type": "code",
     "collapsed": false,
     "input": [
      "A"
     ],
     "language": "python",
     "metadata": {},
     "outputs": [
      {
       "metadata": {},
       "output_type": "pyout",
       "prompt_number": 2,
       "text": [
        "array([[ 0.5112, -0.0827,  0.0655],\n",
        "       [-0.5621, -0.9059,  0.3577]])"
       ]
      }
     ],
     "prompt_number": 2
    },
    {
     "cell_type": "code",
     "collapsed": false,
     "input": [
      "A = np.array([0.5112, -0.0827, 0.0655, -0.5621, -0.9059, 0.3577])\n",
      "A.resize((2,3))\n",
      "b = np.array([-0.3586, -0.8694])\n",
      "gamma = 0.5\n",
      "data = formLasso(A,b,gamma)\n",
      "_A = data[0]['A']"
     ],
     "language": "python",
     "metadata": {},
     "outputs": [],
     "prompt_number": 9
    },
    {
     "cell_type": "code",
     "collapsed": false,
     "input": [
      "A = np.array(_A.todense())\n",
      "B = abs(A)"
     ],
     "language": "python",
     "metadata": {},
     "outputs": [],
     "prompt_number": 14
    },
    {
     "cell_type": "code",
     "collapsed": false,
     "input": [
      "B"
     ],
     "language": "python",
     "metadata": {},
     "outputs": [
      {
       "metadata": {},
       "output_type": "pyout",
       "prompt_number": 15,
       "text": [
        "array([[ 1.    ,  0.    ,  0.    ,  0.    ,  1.    ,  0.    ,  0.    ],\n",
        "       [ 0.    ,  1.    ,  0.    ,  0.    ,  0.    ,  1.    ,  0.    ],\n",
        "       [ 0.    ,  0.    ,  1.    ,  0.    ,  0.    ,  0.    ,  1.    ],\n",
        "       [ 1.    ,  0.    ,  0.    ,  0.    ,  1.    ,  0.    ,  0.    ],\n",
        "       [ 0.    ,  1.    ,  0.    ,  0.    ,  0.    ,  1.    ,  0.    ],\n",
        "       [ 0.    ,  0.    ,  1.    ,  0.    ,  0.    ,  0.    ,  1.    ],\n",
        "       [ 0.    ,  0.    ,  0.    ,  1.    ,  0.    ,  0.    ,  0.    ],\n",
        "       [ 0.5112,  0.0827,  0.0655,  0.    ,  0.    ,  0.    ,  0.    ],\n",
        "       [ 0.5621,  0.9059,  0.3577,  0.    ,  0.    ,  0.    ,  0.    ]])"
       ]
      }
     ],
     "prompt_number": 15
    },
    {
     "cell_type": "code",
     "collapsed": false,
     "input": [
      "c = np.zeros(B.shape[1])+1\n",
      "r = np.zeros(B.shape[0])+1\n",
      "\n",
      "r = 1/(B.dot(c))\n",
      "c = 1/(B.T.dot(r))\n",
      "r = 1/(B.dot(c))\n",
      "c = 1/(B.T.dot(r))\n",
      "r = 1/(B.dot(c))\n",
      "c = 1/(B.T.dot(r))"
     ],
     "language": "python",
     "metadata": {},
     "outputs": [],
     "prompt_number": 25
    },
    {
     "cell_type": "code",
     "collapsed": false,
     "input": [
      "r"
     ],
     "language": "python",
     "metadata": {},
     "outputs": [
      {
       "metadata": {},
       "output_type": "pyout",
       "prompt_number": 30,
       "text": [
        "array([ 0.96153095,  0.80388363,  0.66875249,  0.96153095,  0.80388363,\n",
        "        0.66875249,  1.        ,  4.36133561,  1.28008081])"
       ]
      }
     ],
     "prompt_number": 30
    },
    {
     "cell_type": "code",
     "collapsed": false,
     "input": [
      "c"
     ],
     "language": "python",
     "metadata": {},
     "outputs": [
      {
       "metadata": {},
       "output_type": "pyout",
       "prompt_number": 31,
       "text": [
        "array([ 0.20524988,  0.31968544,  0.48052496,  1.        ,  0.52000406,\n",
        "        0.62198057,  0.74766077])"
       ]
      }
     ],
     "prompt_number": 31
    },
    {
     "cell_type": "code",
     "collapsed": false,
     "input": [
      "np.sum(diag(r).dot(B).dot(diag(c)),axis=1)"
     ],
     "language": "python",
     "metadata": {},
     "outputs": [
      {
       "metadata": {},
       "output_type": "pyout",
       "prompt_number": 32,
       "text": [
        "array([ 0.69735411,  0.75698989,  0.82135226,  0.69735411,  0.75698989,\n",
        "        0.82135226,  1.        ,  0.71018292,  0.73842456])"
       ]
      }
     ],
     "prompt_number": 32
    },
    {
     "cell_type": "code",
     "collapsed": false,
     "input": [
      "y: [0.6974, 0.7570, 0.8213, 0.6974, 0.7570, 0.8213, 1.0000, 0.7102, 0.7384, ]\n",
      "D: [0.9615, 0.8039, 0.6688, 0.9615, 0.8039, 0.6688, 1.0000, 4.3608, 1.2801, ]\n",
      "E: [0.2053, 0.3197, 0.4805, 1.0000, 0.5200, 0.6220, 0.7476, ]"
     ],
     "language": "python",
     "metadata": {},
     "outputs": []
    }
   ],
   "metadata": {}
  }
 ]
}