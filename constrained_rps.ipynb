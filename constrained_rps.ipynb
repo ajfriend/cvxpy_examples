{
 "metadata": {
  "name": "",
  "signature": "sha256:189db785fa3c07bed733965ede88a442da8f9efaea9a941ef0a346bcf64f12a5"
 },
 "nbformat": 3,
 "nbformat_minor": 0,
 "worksheets": [
  {
   "cells": [
    {
     "cell_type": "code",
     "collapsed": false,
     "input": [
      "# rock/paper/scissors with constraints"
     ],
     "language": "python",
     "metadata": {},
     "outputs": []
    }
   ],
   "metadata": {}
  }
 ]
}